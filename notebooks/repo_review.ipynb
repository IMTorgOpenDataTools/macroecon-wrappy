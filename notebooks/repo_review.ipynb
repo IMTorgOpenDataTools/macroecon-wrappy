{
 "cells": [
  {
   "cell_type": "markdown",
   "metadata": {},
   "source": [
    "# Review of Repo Operations"
   ]
  },
  {
   "cell_type": "markdown",
   "metadata": {},
   "source": [
    "## Primary\n",
    "\n",
    "[OFR](https://www.financialresearch.gov/)\n",
    "\n",
    "* Hedge Funds\n",
    "  - size - gross notional exposure by asset class (USD)\n",
    "  - size - gross notional exposure by strategy class (USD)\n",
    "  - leverage - borrowing by type (USD)\n",
    "  - leverage - long and short repo exposures (USD)\n",
    "* UM Money Market Fund Monitor\n",
    "  - Fed Res Repo facility total utilization and MMF's participation\n",
    "* Short-term Funding Monitor\n",
    "  - Repo transaction volume by venue\n",
    "  - Tri-party repo transation volumen collateral type\n",
    "  - Money market fund investment holding by asset type\n",
    "  - US Repo Mkts - Tri-party repo transaction volume collateral type\n",
    "  - US Repo Mkts - DVP Service Average Rate: Total (final)\n",
    "  - US Repo Mkts - GCF Repo Service Average Rate: Total (final)\n",
    "  - US Repo Mkts - Triparty Average Rate: Total (final)\n",
    "  - Repo tranaction volumes by venue\n",
    "  - Reference rates: Effective Federal Funds Rate\n",
    "  - Primary Dealer Statistics: Primary Dealer Aggregate Fails to Deliver (total)\n",
    "\n",
    "[Federal Reserve NY](https://www.newyorkfed.org/markets/data-hub)\n",
    "\n",
    "* Fed Res Repo Ops - Submitted, Accepted, Rate\n",
    "* Fed Res Repo Ops - Submitted, Accepted, Rate (by security type Treaury, Agency, MBS)\n",
    "* Fed Res Balance Sheet (H.4.1)\n",
    "  - Reserves\n",
    "  - US Treasuries\n",
    "  - Agency Securities\n",
    "  - MBS\n",
    "* Fed Res Balance Sheet\n",
    "  - Loans - Primary Credit\n",
    "  - Loans - Secondary Credit\n",
    "* Fed Res Balance Sheet\n",
    "  - Central Bank Liquidity Swaps\n",
    "\n",
    "[DTCC](dtcc.com/charts/membership)\n",
    "\n",
    "* Spaonsored DVP and Sponsored GC Activity\n",
    "* Sponsored Repo and Sponsored Reverse Repo Activity\n",
    "\n",
    "\n",
    "\n",
    "## Additional\n",
    "\n",
    "[US Treasury Month Debt](https://fiscaldata.treasury.gov/datasets/monthly-statement-public-debt/summary-of-treasury-securities-outstanding)\n",
    "\n",
    "* Bills outstanding\n",
    "* ???\n",
    "\n",
    "[SIFMA](https://www.sifma.org/resources/research/statistics/us-treasury-securities-statistics/#:~:text=Issuance%20(as%20of%20February)%20$5.2,%2C%20+6.8%25%20Y/Y)\n",
    "\n",
    "* US Treasuries Security Issuance\n",
    "\n",
    "\n",
    "FRED\n",
    "\n",
    "* Money Market Funds; Total Financial Assets, Level (MMMFFAQ027S)\n",
    "* Overnight Reverse Repurchase Agreements: Treasury Securities Sold by the Federal Reserve in the Temporary Open Market Operations (RRPONTSYD)\n",
    "* Liabilities and Capital: Liabilities: Deposits with F.R. Banks, Other Than Reserve Balances: U.S. Treasury, General Account: Week Average (WTREGEN)\n",
    "* Liabilities and Capital: Other Factors Draining Reserve Balances: Reserve Balances with Federal Reserve Banks: Wednesday Level (WRBWFRBL)\n",
    "* SOFR\n",
    "  - Secured Overnight Financing Rate (SOFR)\n",
    "  - Secured Overnight Financing Rate: 99th Percentile (SOFR99, SOFR75, SOFR25, SOFR1\n",
    "  - Secured Overnight Financing Volume (SOFRVOL)\n",
    "* FedFunds\n",
    "  - Federal Funds Effective Rate (FEDFUNDS)\n",
    "  - Effective Federal Funds Volume (EFFRVOL)\n",
    "* Overnight\n",
    "  - Overnight Bank Funding Volume (OBFRVOL)\n",
    "* Calculated\n",
    "  - SOFR Volume / Liabilities and Capital: Other Factors Draining Reserve Balances\n",
    "\n",
    "Yahoo\n",
    "\n",
    "* SP500\n",
    "* Price gold\n",
    "* Price silver\n",
    "* calc: sp500 / gold\n",
    "* calc: gold / silver\n"
   ]
  },
  {
   "cell_type": "code",
   "execution_count": 1,
   "metadata": {},
   "outputs": [],
   "source": [
    "%load_ext autoreload\n",
    "%autoreload 2"
   ]
  },
  {
   "cell_type": "code",
   "execution_count": 2,
   "metadata": {},
   "outputs": [],
   "source": [
    "#project\n",
    "from macroecon_wrappy import (\n",
    "    Auth,\n",
    "    Metric,\n",
    "    Measure,\n",
    "    Epoch,\n",
    "    plots\n",
    ")\n",
    "from macroecon_wrappy.adapters import (\n",
    "    FredApi\n",
    ")\n",
    "from macroecon_wrappy.extractors import (\n",
    "    NberExtract\n",
    ")\n",
    "\n",
    "\n",
    "#external\n",
    "from fredapi import Fred\n",
    "\n",
    "#system\n",
    "from pathlib import Path"
   ]
  },
  {
   "cell_type": "code",
   "execution_count": 3,
   "metadata": {},
   "outputs": [
    {
     "data": {
      "text/plain": [
       "True"
      ]
     },
     "execution_count": 3,
     "metadata": {},
     "output_type": "execute_result"
    }
   ],
   "source": [
    "secrets_path = Path('/workspaces/API-macroecon-wrappy/SECRETS.yaml')\n",
    "cache_path = Path('/workspaces/API-macroecon-wrappy/tests/tmp/')\n",
    "auth = Auth(secrets_path, cache_path)\n",
    "auth.load_secrets()"
   ]
  },
  {
   "cell_type": "code",
   "execution_count": 4,
   "metadata": {},
   "outputs": [
    {
     "name": "stdout",
     "output_type": "stream",
     "text": [
      "first two columns will be renamed: ['start', 'end', 'name']\n"
     ]
    }
   ],
   "source": [
    "#nber\n",
    "NberExtract.set_config(auth)\n",
    "name = 'recessions'\n",
    "recessions = NberExtract.get_data(name)"
   ]
  },
  {
   "cell_type": "code",
   "execution_count": null,
   "metadata": {},
   "outputs": [],
   "source": [
    "#fred\n",
    "#source: https://fred.stlouisfed.org/source?soid=23\n",
    "# get this api: https://fiscaldata.treasury.gov/datasets/monthly-statement-public-debt/summary-of-treasury-securities-outstanding\n",
    "# compare with sifma: https://www.sifma.org/resources/research/statistics/us-treasury-securities-statistics/#:~:text=SIFMA%20Research%20tracks%20U.S.%20Treasury,%2C%20+6.8%25%20Y/Y\n",
    "FredApi.set_wrapper(auth, Fred)\n",
    "mmftfa = FredApi.get_data('MMMFFAQ027S')\n",
    "tb1yr = FredApi.get_data('DTB1YR')                  #rate - not what we want\n",
    "treasfinancing = FredApi.get_data('MTSMFBP133FMS')  #amount of all debt - we actually want Tbills from fiscal site: \n",
    "\n",
    "#output = Measure([mmftfa, tb1yr], recessions)"
   ]
  },
  {
   "cell_type": "code",
   "execution_count": 12,
   "metadata": {},
   "outputs": [
    {
     "data": {
      "text/plain": [
       "timestamp\n",
       "2010-01-01   -5.192400e+04\n",
       "2010-02-01    1.248070e+05\n",
       "2010-03-01    4.777400e+05\n",
       "2010-04-01    6.212090e+05\n",
       "2010-05-01    6.812970e+05\n",
       "                  ...     \n",
       "2024-10-01    2.065478e+07\n",
       "2024-11-01    2.087608e+07\n",
       "2024-12-01    2.092435e+07\n",
       "2025-01-01    2.099480e+07\n",
       "2025-02-01    2.099738e+07\n",
       "Length: 182, dtype: float64"
      ]
     },
     "execution_count": 12,
     "metadata": {},
     "output_type": "execute_result"
    }
   ],
   "source": [
    "treasfinancing.cumsum()"
   ]
  },
  {
   "cell_type": "code",
   "execution_count": 7,
   "metadata": {},
   "outputs": [
    {
     "data": {
      "text/html": [
       "<div>\n",
       "<style scoped>\n",
       "    .dataframe tbody tr th:only-of-type {\n",
       "        vertical-align: middle;\n",
       "    }\n",
       "\n",
       "    .dataframe tbody tr th {\n",
       "        vertical-align: top;\n",
       "    }\n",
       "\n",
       "    .dataframe thead th {\n",
       "        text-align: right;\n",
       "    }\n",
       "</style>\n",
       "<table border=\"1\" class=\"dataframe\">\n",
       "  <thead>\n",
       "    <tr style=\"text-align: right;\">\n",
       "      <th></th>\n",
       "      <th>col-0</th>\n",
       "      <th>col-1</th>\n",
       "    </tr>\n",
       "    <tr>\n",
       "      <th>timestamp</th>\n",
       "      <th></th>\n",
       "      <th></th>\n",
       "    </tr>\n",
       "  </thead>\n",
       "  <tbody>\n",
       "    <tr>\n",
       "      <th>1946-10-01</th>\n",
       "      <td>0.0</td>\n",
       "      <td>NaN</td>\n",
       "    </tr>\n",
       "    <tr>\n",
       "      <th>1946-07-01</th>\n",
       "      <td>NaN</td>\n",
       "      <td>NaN</td>\n",
       "    </tr>\n",
       "    <tr>\n",
       "      <th>1946-04-01</th>\n",
       "      <td>NaN</td>\n",
       "      <td>NaN</td>\n",
       "    </tr>\n",
       "    <tr>\n",
       "      <th>1946-01-01</th>\n",
       "      <td>NaN</td>\n",
       "      <td>NaN</td>\n",
       "    </tr>\n",
       "    <tr>\n",
       "      <th>1945-10-01</th>\n",
       "      <td>0.0</td>\n",
       "      <td>NaN</td>\n",
       "    </tr>\n",
       "  </tbody>\n",
       "</table>\n",
       "</div>"
      ],
      "text/plain": [
       "            col-0  col-1\n",
       "timestamp               \n",
       "1946-10-01    0.0    NaN\n",
       "1946-07-01    NaN    NaN\n",
       "1946-04-01    NaN    NaN\n",
       "1946-01-01    NaN    NaN\n",
       "1945-10-01    0.0    NaN"
      ]
     },
     "execution_count": 7,
     "metadata": {},
     "output_type": "execute_result"
    }
   ],
   "source": [
    "measure = Measure([mmftfa, treasfinancing])\n",
    "measure.df().tail()"
   ]
  },
  {
   "cell_type": "markdown",
   "metadata": {},
   "source": [
    "Money Markets are Reverse Repos and T-bills.  MM Funds invest there for a little interest.  If there is less T-bills then more Repos are needed to fullfil the MM needs."
   ]
  },
  {
   "cell_type": "code",
   "execution_count": 8,
   "metadata": {},
   "outputs": [
    {
     "name": "stdout",
     "output_type": "stream",
     "text": [
      "no self.cycle of `Epoch` is available.  use measure.set_cycle(cycle)\n"
     ]
    },
    {
     "data": {
      "text/html": [
       "\n",
       "<style>\n",
       "  #altair-viz-1040fc8671eb47cb95234ffc49e8f71d.vega-embed {\n",
       "    width: 100%;\n",
       "    display: flex;\n",
       "  }\n",
       "\n",
       "  #altair-viz-1040fc8671eb47cb95234ffc49e8f71d.vega-embed details,\n",
       "  #altair-viz-1040fc8671eb47cb95234ffc49e8f71d.vega-embed details summary {\n",
       "    position: relative;\n",
       "  }\n",
       "</style>\n",
       "<div id=\"altair-viz-1040fc8671eb47cb95234ffc49e8f71d\"></div>\n",
       "<script type=\"text/javascript\">\n",
       "  var VEGA_DEBUG = (typeof VEGA_DEBUG == \"undefined\") ? {} : VEGA_DEBUG;\n",
       "  (function(spec, embedOpt){\n",
       "    let outputDiv = document.currentScript.previousElementSibling;\n",
       "    if (outputDiv.id !== \"altair-viz-1040fc8671eb47cb95234ffc49e8f71d\") {\n",
       "      outputDiv = document.getElementById(\"altair-viz-1040fc8671eb47cb95234ffc49e8f71d\");\n",
       "    }\n",
       "    const paths = {\n",
       "      \"vega\": \"https://cdn.jsdelivr.net/npm/vega@5?noext\",\n",
       "      \"vega-lib\": \"https://cdn.jsdelivr.net/npm/vega-lib?noext\",\n",
       "      \"vega-lite\": \"https://cdn.jsdelivr.net/npm/vega-lite@5.20.1?noext\",\n",
       "      \"vega-embed\": \"https://cdn.jsdelivr.net/npm/vega-embed@6?noext\",\n",
       "    };\n",
       "\n",
       "    function maybeLoadScript(lib, version) {\n",
       "      var key = `${lib.replace(\"-\", \"\")}_version`;\n",
       "      return (VEGA_DEBUG[key] == version) ?\n",
       "        Promise.resolve(paths[lib]) :\n",
       "        new Promise(function(resolve, reject) {\n",
       "          var s = document.createElement('script');\n",
       "          document.getElementsByTagName(\"head\")[0].appendChild(s);\n",
       "          s.async = true;\n",
       "          s.onload = () => {\n",
       "            VEGA_DEBUG[key] = version;\n",
       "            return resolve(paths[lib]);\n",
       "          };\n",
       "          s.onerror = () => reject(`Error loading script: ${paths[lib]}`);\n",
       "          s.src = paths[lib];\n",
       "        });\n",
       "    }\n",
       "\n",
       "    function showError(err) {\n",
       "      outputDiv.innerHTML = `<div class=\"error\" style=\"color:red;\">${err}</div>`;\n",
       "      throw err;\n",
       "    }\n",
       "\n",
       "    function displayChart(vegaEmbed) {\n",
       "      vegaEmbed(outputDiv, spec, embedOpt)\n",
       "        .catch(err => showError(`Javascript Error: ${err.message}<br>This usually means there's a typo in your chart specification. See the javascript console for the full traceback.`));\n",
       "    }\n",
       "\n",
       "    if(typeof define === \"function\" && define.amd) {\n",
       "      requirejs.config({paths});\n",
       "      require([\"vega-embed\"], displayChart, err => showError(`Error loading script: ${err.message}`));\n",
       "    } else {\n",
       "      maybeLoadScript(\"vega\", \"5\")\n",
       "        .then(() => maybeLoadScript(\"vega-lite\", \"5.20.1\"))\n",
       "        .then(() => maybeLoadScript(\"vega-embed\", \"6\"))\n",
       "        .catch(showError)\n",
       "        .then(() => displayChart(vegaEmbed));\n",
       "    }\n",
       "  })({\"config\": {\"view\": {\"continuousWidth\": 300, \"continuousHeight\": 300}}, \"vconcat\": [{\"mark\": {\"type\": \"line\"}, \"encoding\": {\"x\": {\"field\": \"x\", \"scale\": {\"domain\": {\"param\": \"param_1\"}}, \"type\": \"temporal\"}, \"y\": {\"field\": \"y\", \"type\": \"quantitative\"}}, \"height\": 200, \"width\": 600}, {\"mark\": {\"type\": \"line\"}, \"encoding\": {\"x\": {\"field\": \"x\", \"type\": \"temporal\"}, \"y\": {\"field\": \"y\", \"type\": \"quantitative\"}}, \"height\": 60, \"name\": \"view_1\", \"width\": 600}], \"data\": {\"name\": \"data-d888456193be0122754c81078757984c\"}, \"params\": [{\"name\": \"param_1\", \"select\": {\"type\": \"interval\", \"encodings\": [\"x\"]}, \"views\": [\"view_1\"]}], \"$schema\": \"https://vega.github.io/schema/vega-lite/v5.20.1.json\", \"datasets\": {\"data-d888456193be0122754c81078757984c\": [{\"x\": \"2024-10-01T00:00:00\", \"grp\": \"col-0\", \"y\": 7243180.0}, {\"x\": \"2024-07-01T00:00:00\", \"grp\": \"col-0\", \"y\": 6839054.0}, {\"x\": \"2024-04-01T00:00:00\", \"grp\": \"col-0\", \"y\": 6548352.0}, {\"x\": \"2024-01-01T00:00:00\", \"grp\": \"col-0\", \"y\": 6440700.0}, {\"x\": \"2023-10-01T00:00:00\", \"grp\": \"col-0\", \"y\": 6357551.0}, {\"x\": \"2023-07-01T00:00:00\", \"grp\": \"col-0\", \"y\": 6142962.0}, {\"x\": \"2023-04-01T00:00:00\", \"grp\": \"col-0\", \"y\": 5917351.0}, {\"x\": \"2023-01-01T00:00:00\", \"grp\": \"col-0\", \"y\": 5692567.0}, {\"x\": \"2022-10-01T00:00:00\", \"grp\": \"col-0\", \"y\": 5223061.0}, {\"x\": \"2022-07-01T00:00:00\", \"grp\": \"col-0\", \"y\": 5084242.0}, {\"x\": \"2022-04-01T00:00:00\", \"grp\": \"col-0\", \"y\": 5032439.0}, {\"x\": \"2022-01-01T00:00:00\", \"grp\": \"col-0\", \"y\": 5090707.0}, {\"x\": \"2021-10-01T00:00:00\", \"grp\": \"col-0\", \"y\": 5205455.0}, {\"x\": \"2021-07-01T00:00:00\", \"grp\": \"col-0\", \"y\": 5019225.0}, {\"x\": \"2021-04-01T00:00:00\", \"grp\": \"col-0\", \"y\": 5015397.0}, {\"x\": \"2021-01-01T00:00:00\", \"grp\": \"col-0\", \"y\": 4979998.0}, {\"x\": \"2020-10-01T00:00:00\", \"grp\": \"col-0\", \"y\": 4765920.0}, {\"x\": \"2020-07-01T00:00:00\", \"grp\": \"col-0\", \"y\": 4846839.0}, {\"x\": \"2020-04-01T00:00:00\", \"grp\": \"col-0\", \"y\": 5087590.0}, {\"x\": \"2020-01-01T00:00:00\", \"grp\": \"col-0\", \"y\": 4727179.0}, {\"x\": \"2019-10-01T00:00:00\", \"grp\": \"col-0\", \"y\": 4002466.0}, {\"x\": \"2019-07-01T00:00:00\", \"grp\": \"col-0\", \"y\": 3834010.0}, {\"x\": \"2019-04-01T00:00:00\", \"grp\": \"col-0\", \"y\": 3600902.0}, {\"x\": \"2019-01-01T00:00:00\", \"grp\": \"col-0\", \"y\": 3483726.0}, {\"x\": \"2018-10-01T00:00:00\", \"grp\": \"col-0\", \"y\": 3289687.0}, {\"x\": \"2018-07-01T00:00:00\", \"grp\": \"col-0\", \"y\": 3143468.0}, {\"x\": \"2018-04-01T00:00:00\", \"grp\": \"col-0\", \"y\": 3092120.0}, {\"x\": \"2018-01-01T00:00:00\", \"grp\": \"col-0\", \"y\": 3067973.0}, {\"x\": \"2017-10-01T00:00:00\", \"grp\": \"col-0\", \"y\": 3120533.0}, {\"x\": \"2017-07-01T00:00:00\", \"grp\": \"col-0\", \"y\": 3029916.0}, {\"x\": \"2017-04-01T00:00:00\", \"grp\": \"col-0\", \"y\": 2892645.0}, {\"x\": \"2017-01-01T00:00:00\", \"grp\": \"col-0\", \"y\": 2926657.0}, {\"x\": \"2016-10-01T00:00:00\", \"grp\": \"col-0\", \"y\": 2955224.0}, {\"x\": \"2016-07-01T00:00:00\", \"grp\": \"col-0\", \"y\": 2943898.0}, {\"x\": \"2016-04-01T00:00:00\", \"grp\": \"col-0\", \"y\": 2969440.0}, {\"x\": \"2016-01-01T00:00:00\", \"grp\": \"col-0\", \"y\": 3064466.0}, {\"x\": \"2015-10-01T00:00:00\", \"grp\": \"col-0\", \"y\": 3078204.0}, {\"x\": \"2015-07-01T00:00:00\", \"grp\": \"col-0\", \"y\": 3015801.0}, {\"x\": \"2015-04-01T00:00:00\", \"grp\": \"col-0\", \"y\": 2957534.0}, {\"x\": \"2015-01-01T00:00:00\", \"grp\": \"col-0\", \"y\": 3002355.0}, {\"x\": \"2014-10-01T00:00:00\", \"grp\": \"col-0\", \"y\": 3072970.0}, {\"x\": \"2014-07-01T00:00:00\", \"grp\": \"col-0\", \"y\": 2968844.0}, {\"x\": \"2014-04-01T00:00:00\", \"grp\": \"col-0\", \"y\": 2920671.0}, {\"x\": \"2014-01-01T00:00:00\", \"grp\": \"col-0\", \"y\": 2995782.0}, {\"x\": \"2013-10-01T00:00:00\", \"grp\": \"col-0\", \"y\": 3047282.0}, {\"x\": \"2013-07-01T00:00:00\", \"grp\": \"col-0\", \"y\": 3004474.0}, {\"x\": \"2013-04-01T00:00:00\", \"grp\": \"col-0\", \"y\": 2901526.0}, {\"x\": \"2013-01-01T00:00:00\", \"grp\": \"col-0\", \"y\": 2922416.0}, {\"x\": \"2012-10-01T00:00:00\", \"grp\": \"col-0\", \"y\": 2996592.0}, {\"x\": \"2012-07-01T00:00:00\", \"grp\": \"col-0\", \"y\": 2858215.0}, {\"x\": \"2012-04-01T00:00:00\", \"grp\": \"col-0\", \"y\": 2785404.0}, {\"x\": \"2012-01-01T00:00:00\", \"grp\": \"col-0\", \"y\": 2862155.0}, {\"x\": \"2011-10-01T00:00:00\", \"grp\": \"col-0\", \"y\": 2941890.0}, {\"x\": \"2011-07-01T00:00:00\", \"grp\": \"col-0\", \"y\": 2876458.0}, {\"x\": \"2011-04-01T00:00:00\", \"grp\": \"col-0\", \"y\": 2934857.0}, {\"x\": \"2011-01-01T00:00:00\", \"grp\": \"col-0\", \"y\": 2970327.0}, {\"x\": \"2010-10-01T00:00:00\", \"grp\": \"col-0\", \"y\": 3034465.0}, {\"x\": \"2010-07-01T00:00:00\", \"grp\": \"col-0\", \"y\": 2796581.0}, {\"x\": \"2010-04-01T00:00:00\", \"grp\": \"col-0\", \"y\": 2813331.0}, {\"x\": \"2010-01-01T00:00:00\", \"grp\": \"col-0\", \"y\": 2983807.0}, {\"x\": \"2009-10-01T00:00:00\", \"grp\": \"col-0\", \"y\": 3315893.0}, {\"x\": \"2009-07-01T00:00:00\", \"grp\": \"col-0\", \"y\": 3425463.0}, {\"x\": \"2009-04-01T00:00:00\", \"grp\": \"col-0\", \"y\": 3653101.0}, {\"x\": \"2009-01-01T00:00:00\", \"grp\": \"col-0\", \"y\": 3813876.0}, {\"x\": \"2008-10-01T00:00:00\", \"grp\": \"col-0\", \"y\": 3832237.0}, {\"x\": \"2008-07-01T00:00:00\", \"grp\": \"col-0\", \"y\": 3420293.0}, {\"x\": \"2008-04-01T00:00:00\", \"grp\": \"col-0\", \"y\": 3377297.0}, {\"x\": \"2008-01-01T00:00:00\", \"grp\": \"col-0\", \"y\": 3442540.0}, {\"x\": \"2007-10-01T00:00:00\", \"grp\": \"col-0\", \"y\": 3085760.0}, {\"x\": \"2007-07-01T00:00:00\", \"grp\": \"col-0\", \"y\": 2830799.0}, {\"x\": \"2007-04-01T00:00:00\", \"grp\": \"col-0\", \"y\": 2514235.0}, {\"x\": \"2007-01-01T00:00:00\", \"grp\": \"col-0\", \"y\": 2417799.0}, {\"x\": \"2006-10-01T00:00:00\", \"grp\": \"col-0\", \"y\": 2338451.0}, {\"x\": \"2006-07-01T00:00:00\", \"grp\": \"col-0\", \"y\": 2195786.0}, {\"x\": \"2006-04-01T00:00:00\", \"grp\": \"col-0\", \"y\": 2094385.0}, {\"x\": \"2006-01-01T00:00:00\", \"grp\": \"col-0\", \"y\": 2033948.0}, {\"x\": \"2005-10-01T00:00:00\", \"grp\": \"col-0\", \"y\": 2026821.0}, {\"x\": \"2005-07-01T00:00:00\", \"grp\": \"col-0\", \"y\": 1901890.0}, {\"x\": \"2005-04-01T00:00:00\", \"grp\": \"col-0\", \"y\": 1853916.0}, {\"x\": \"2005-01-01T00:00:00\", \"grp\": \"col-0\", \"y\": 1865022.0}, {\"x\": \"2004-10-01T00:00:00\", \"grp\": \"col-0\", \"y\": 1901700.0}, {\"x\": \"2004-07-01T00:00:00\", \"grp\": \"col-0\", \"y\": 1892172.0}, {\"x\": \"2004-04-01T00:00:00\", \"grp\": \"col-0\", \"y\": 1941873.0}, {\"x\": \"2004-01-01T00:00:00\", \"grp\": \"col-0\", \"y\": 1992608.0}, {\"x\": \"2003-10-01T00:00:00\", \"grp\": \"col-0\", \"y\": 2040021.0}, {\"x\": \"2003-07-01T00:00:00\", \"grp\": \"col-0\", \"y\": 2090350.0}, {\"x\": \"2003-04-01T00:00:00\", \"grp\": \"col-0\", \"y\": 2157611.0}, {\"x\": \"2003-01-01T00:00:00\", \"grp\": \"col-0\", \"y\": 2198864.0}, {\"x\": \"2002-10-01T00:00:00\", \"grp\": \"col-0\", \"y\": 2265075.0}, {\"x\": \"2002-07-01T00:00:00\", \"grp\": \"col-0\", \"y\": 2158164.0}, {\"x\": \"2002-04-01T00:00:00\", \"grp\": \"col-0\", \"y\": 2190769.0}, {\"x\": \"2002-01-01T00:00:00\", \"grp\": \"col-0\", \"y\": 2247857.0}, {\"x\": \"2001-10-01T00:00:00\", \"grp\": \"col-0\", \"y\": 2285310.0}, {\"x\": \"2001-07-01T00:00:00\", \"grp\": \"col-0\", \"y\": 2161638.0}, {\"x\": \"2001-04-01T00:00:00\", \"grp\": \"col-0\", \"y\": 2052455.0}, {\"x\": \"2001-01-01T00:00:00\", \"grp\": \"col-0\", \"y\": 2035459.0}, {\"x\": \"2000-10-01T00:00:00\", \"grp\": \"col-0\", \"y\": 1845248.0}, {\"x\": \"2000-07-01T00:00:00\", \"grp\": \"col-0\", \"y\": 1727378.0}, {\"x\": \"2000-04-01T00:00:00\", \"grp\": \"col-0\", \"y\": 1658250.0}, {\"x\": \"2000-01-01T00:00:00\", \"grp\": \"col-0\", \"y\": 1696149.0}, {\"x\": \"1999-10-01T00:00:00\", \"grp\": \"col-0\", \"y\": 1613146.0}, {\"x\": \"1999-07-01T00:00:00\", \"grp\": \"col-0\", \"y\": 1476728.0}, {\"x\": \"1999-04-01T00:00:00\", \"grp\": \"col-0\", \"y\": 1420845.0}, {\"x\": \"1999-01-01T00:00:00\", \"grp\": \"col-0\", \"y\": 1438367.0}, {\"x\": \"1998-10-01T00:00:00\", \"grp\": \"col-0\", \"y\": 1351678.0}, {\"x\": \"1998-07-01T00:00:00\", \"grp\": \"col-0\", \"y\": 1266902.0}, {\"x\": \"1998-04-01T00:00:00\", \"grp\": \"col-0\", \"y\": 1168511.0}, {\"x\": \"1998-01-01T00:00:00\", \"grp\": \"col-0\", \"y\": 1142406.0}, {\"x\": \"1997-10-01T00:00:00\", \"grp\": \"col-0\", \"y\": 1058885.0}, {\"x\": \"1997-07-01T00:00:00\", \"grp\": \"col-0\", \"y\": 1015127.0}, {\"x\": \"1997-04-01T00:00:00\", \"grp\": \"col-0\", \"y\": 963700.0}, {\"x\": \"1997-01-01T00:00:00\", \"grp\": \"col-0\", \"y\": 965433.0}, {\"x\": \"1996-10-01T00:00:00\", \"grp\": \"col-0\", \"y\": 901807.0}, {\"x\": \"1996-07-01T00:00:00\", \"grp\": \"col-0\", \"y\": 852063.0}, {\"x\": \"1996-04-01T00:00:00\", \"grp\": \"col-0\", \"y\": 817748.0}, {\"x\": \"1996-01-01T00:00:00\", \"grp\": \"col-0\", \"y\": 824202.0}, {\"x\": \"1995-10-01T00:00:00\", \"grp\": \"col-0\", \"y\": 753018.0}, {\"x\": \"1995-07-01T00:00:00\", \"grp\": \"col-0\", \"y\": 710873.0}, {\"x\": \"1995-04-01T00:00:00\", \"grp\": \"col-0\", \"y\": 686673.0}, {\"x\": \"1995-01-01T00:00:00\", \"grp\": \"col-0\", \"y\": 641874.0}, {\"x\": \"1994-10-01T00:00:00\", \"grp\": \"col-0\", \"y\": 611005.0}, {\"x\": \"1994-07-01T00:00:00\", \"grp\": \"col-0\", \"y\": 586195.0}, {\"x\": \"1994-04-01T00:00:00\", \"grp\": \"col-0\", \"y\": 576632.0}, {\"x\": \"1994-01-01T00:00:00\", \"grp\": \"col-0\", \"y\": 582288.0}, {\"x\": \"1993-10-01T00:00:00\", \"grp\": \"col-0\", \"y\": 565319.0}, {\"x\": \"1993-07-01T00:00:00\", \"grp\": \"col-0\", \"y\": 550522.0}, {\"x\": \"1993-04-01T00:00:00\", \"grp\": \"col-0\", \"y\": 552412.0}, {\"x\": \"1993-01-01T00:00:00\", \"grp\": \"col-0\", \"y\": 559524.0}, {\"x\": \"1992-10-01T00:00:00\", \"grp\": \"col-0\", \"y\": 546194.0}, {\"x\": \"1992-07-01T00:00:00\", \"grp\": \"col-0\", \"y\": 556864.0}, {\"x\": \"1992-04-01T00:00:00\", \"grp\": \"col-0\", \"y\": 559738.0}, {\"x\": \"1992-01-01T00:00:00\", \"grp\": \"col-0\", \"y\": 574836.0}, {\"x\": \"1991-10-01T00:00:00\", \"grp\": \"col-0\", \"y\": 542441.0}, {\"x\": \"1991-07-01T00:00:00\", \"grp\": \"col-0\", \"y\": 536008.0}, {\"x\": \"1991-04-01T00:00:00\", \"grp\": \"col-0\", \"y\": 535657.0}, {\"x\": \"1991-01-01T00:00:00\", \"grp\": \"col-0\", \"y\": 555411.0}, {\"x\": \"1990-10-01T00:00:00\", \"grp\": \"col-0\", \"y\": 501268.0}, {\"x\": \"1990-07-01T00:00:00\", \"grp\": \"col-0\", \"y\": 486898.0}, {\"x\": \"1990-04-01T00:00:00\", \"grp\": \"col-0\", \"y\": 455295.0}, {\"x\": \"1990-01-01T00:00:00\", \"grp\": \"col-0\", \"y\": 465696.0}, {\"x\": \"1989-10-01T00:00:00\", \"grp\": \"col-0\", \"y\": 430007.0}, {\"x\": \"1989-07-01T00:00:00\", \"grp\": \"col-0\", \"y\": 416782.0}, {\"x\": \"1989-04-01T00:00:00\", \"grp\": \"col-0\", \"y\": 385856.0}, {\"x\": \"1989-01-01T00:00:00\", \"grp\": \"col-0\", \"y\": 365061.0}, {\"x\": \"1988-10-01T00:00:00\", \"grp\": \"col-0\", \"y\": 338862.0}, {\"x\": \"1988-07-01T00:00:00\", \"grp\": \"col-0\", \"y\": 327157.0}, {\"x\": \"1988-04-01T00:00:00\", \"grp\": \"col-0\", \"y\": 327808.0}, {\"x\": \"1988-01-01T00:00:00\", \"grp\": \"col-0\", \"y\": 344684.0}, {\"x\": \"1987-10-01T00:00:00\", \"grp\": \"col-0\", \"y\": 316096.0}, {\"x\": \"1987-07-01T00:00:00\", \"grp\": \"col-0\", \"y\": 306182.0}, {\"x\": \"1987-04-01T00:00:00\", \"grp\": \"col-0\", \"y\": 301489.0}, {\"x\": \"1987-01-01T00:00:00\", \"grp\": \"col-0\", \"y\": 304475.0}, {\"x\": \"1986-10-01T00:00:00\", \"grp\": \"col-0\", \"y\": 292152.0}, {\"x\": \"1986-07-01T00:00:00\", \"grp\": \"col-0\", \"y\": 296048.0}, {\"x\": \"1986-04-01T00:00:00\", \"grp\": \"col-0\", \"y\": 278099.0}, {\"x\": \"1986-01-01T00:00:00\", \"grp\": \"col-0\", \"y\": 266529.0}, {\"x\": \"1985-10-01T00:00:00\", \"grp\": \"col-0\", \"y\": 243803.0}, {\"x\": \"1985-07-01T00:00:00\", \"grp\": \"col-0\", \"y\": 243416.0}, {\"x\": \"1985-04-01T00:00:00\", \"grp\": \"col-0\", \"y\": 247095.0}, {\"x\": \"1985-01-01T00:00:00\", \"grp\": \"col-0\", \"y\": 241000.0}, {\"x\": \"1984-10-01T00:00:00\", \"grp\": \"col-0\", \"y\": 233554.0}, {\"x\": \"1984-07-01T00:00:00\", \"grp\": \"col-0\", \"y\": 205269.0}, {\"x\": \"1984-04-01T00:00:00\", \"grp\": \"col-0\", \"y\": 200096.0}, {\"x\": \"1984-01-01T00:00:00\", \"grp\": \"col-0\", \"y\": 195074.0}, {\"x\": \"1983-10-01T00:00:00\", \"grp\": \"col-0\", \"y\": 179467.0}, {\"x\": \"1983-07-01T00:00:00\", \"grp\": \"col-0\", \"y\": 179590.0}, {\"x\": \"1983-04-01T00:00:00\", \"grp\": \"col-0\", \"y\": 180893.0}, {\"x\": \"1983-01-01T00:00:00\", \"grp\": \"col-0\", \"y\": 197336.0}, {\"x\": \"1982-10-01T00:00:00\", \"grp\": \"col-0\", \"y\": 219928.0}, {\"x\": \"1982-07-01T00:00:00\", \"grp\": \"col-0\", \"y\": 235246.0}, {\"x\": \"1982-04-01T00:00:00\", \"grp\": \"col-0\", \"y\": 209680.0}, {\"x\": \"1982-01-01T00:00:00\", \"grp\": \"col-0\", \"y\": 198732.0}, {\"x\": \"1981-10-01T00:00:00\", \"grp\": \"col-0\", \"y\": 186305.0}, {\"x\": \"1981-07-01T00:00:00\", \"grp\": \"col-0\", \"y\": 164470.0}, {\"x\": \"1981-04-01T00:00:00\", \"grp\": \"col-0\", \"y\": 129871.0}, {\"x\": \"1981-01-01T00:00:00\", \"grp\": \"col-0\", \"y\": 114223.0}, {\"x\": \"1980-10-01T00:00:00\", \"grp\": \"col-0\", \"y\": 76415.0}, {\"x\": \"1980-07-01T00:00:00\", \"grp\": \"col-0\", \"y\": 79901.0}, {\"x\": \"1980-04-01T00:00:00\", \"grp\": \"col-0\", \"y\": 77827.0}, {\"x\": \"1980-01-01T00:00:00\", \"grp\": \"col-0\", \"y\": 61292.0}, {\"x\": \"1979-10-01T00:00:00\", \"grp\": \"col-0\", \"y\": 45214.0}, {\"x\": \"1979-07-01T00:00:00\", \"grp\": \"col-0\", \"y\": 34194.0}, {\"x\": \"1979-04-01T00:00:00\", \"grp\": \"col-0\", \"y\": 25915.0}, {\"x\": \"1979-01-01T00:00:00\", \"grp\": \"col-0\", \"y\": 18020.0}, {\"x\": \"1978-10-01T00:00:00\", \"grp\": \"col-0\", \"y\": 10808.0}, {\"x\": \"1978-07-01T00:00:00\", \"grp\": \"col-0\", \"y\": 8407.0}, {\"x\": \"1978-04-01T00:00:00\", \"grp\": \"col-0\", \"y\": 6959.0}, {\"x\": \"1978-01-01T00:00:00\", \"grp\": \"col-0\", \"y\": 5620.0}, {\"x\": \"1977-10-01T00:00:00\", \"grp\": \"col-0\", \"y\": 3887.0}, {\"x\": \"1977-07-01T00:00:00\", \"grp\": \"col-0\", \"y\": 3463.0}, {\"x\": \"1977-04-01T00:00:00\", \"grp\": \"col-0\", \"y\": 3443.0}, {\"x\": \"1977-01-01T00:00:00\", \"grp\": \"col-0\", \"y\": 3460.0}, {\"x\": \"1976-10-01T00:00:00\", \"grp\": \"col-0\", \"y\": 3404.0}, {\"x\": \"1976-07-01T00:00:00\", \"grp\": \"col-0\", \"y\": 3421.0}, {\"x\": \"1976-04-01T00:00:00\", \"grp\": \"col-0\", \"y\": 3430.0}, {\"x\": \"1976-01-01T00:00:00\", \"grp\": \"col-0\", \"y\": 3712.0}, {\"x\": \"1975-10-01T00:00:00\", \"grp\": \"col-0\", \"y\": 3645.0}, {\"x\": \"1975-07-01T00:00:00\", \"grp\": \"col-0\", \"y\": 3708.0}, {\"x\": \"1975-04-01T00:00:00\", \"grp\": \"col-0\", \"y\": 3661.0}, {\"x\": \"1975-01-01T00:00:00\", \"grp\": \"col-0\", \"y\": 3620.0}, {\"x\": \"1974-10-01T00:00:00\", \"grp\": \"col-0\", \"y\": 2379.0}, {\"x\": \"1974-07-01T00:00:00\", \"grp\": \"col-0\", \"y\": 1386.0}, {\"x\": \"1974-04-01T00:00:00\", \"grp\": \"col-0\", \"y\": 570.0}, {\"x\": \"1974-01-01T00:00:00\", \"grp\": \"col-0\", \"y\": 263.0}, {\"x\": \"1973-10-01T00:00:00\", \"grp\": \"col-0\", \"y\": 0.0}, {\"x\": \"1973-07-01T00:00:00\", \"grp\": \"col-0\", \"y\": 0.0}, {\"x\": \"1973-04-01T00:00:00\", \"grp\": \"col-0\", \"y\": 0.0}, {\"x\": \"1973-01-01T00:00:00\", \"grp\": \"col-0\", \"y\": 0.0}, {\"x\": \"1972-10-01T00:00:00\", \"grp\": \"col-0\", \"y\": 0.0}, {\"x\": \"1972-07-01T00:00:00\", \"grp\": \"col-0\", \"y\": 0.0}, {\"x\": \"1972-04-01T00:00:00\", \"grp\": \"col-0\", \"y\": 0.0}, {\"x\": \"1972-01-01T00:00:00\", \"grp\": \"col-0\", \"y\": 0.0}, {\"x\": \"1971-10-01T00:00:00\", \"grp\": \"col-0\", \"y\": 0.0}, {\"x\": \"1971-07-01T00:00:00\", \"grp\": \"col-0\", \"y\": 0.0}, {\"x\": \"1971-04-01T00:00:00\", \"grp\": \"col-0\", \"y\": 0.0}, {\"x\": \"1971-01-01T00:00:00\", \"grp\": \"col-0\", \"y\": 0.0}, {\"x\": \"1970-10-01T00:00:00\", \"grp\": \"col-0\", \"y\": 0.0}, {\"x\": \"1970-07-01T00:00:00\", \"grp\": \"col-0\", \"y\": 0.0}, {\"x\": \"1970-04-01T00:00:00\", \"grp\": \"col-0\", \"y\": 0.0}, {\"x\": \"1970-01-01T00:00:00\", \"grp\": \"col-0\", \"y\": 0.0}, {\"x\": \"1969-10-01T00:00:00\", \"grp\": \"col-0\", \"y\": 0.0}, {\"x\": \"1969-07-01T00:00:00\", \"grp\": \"col-0\", \"y\": 0.0}, {\"x\": \"1969-04-01T00:00:00\", \"grp\": \"col-0\", \"y\": 0.0}, {\"x\": \"1969-01-01T00:00:00\", \"grp\": \"col-0\", \"y\": 0.0}, {\"x\": \"1968-10-01T00:00:00\", \"grp\": \"col-0\", \"y\": 0.0}, {\"x\": \"1968-07-01T00:00:00\", \"grp\": \"col-0\", \"y\": 0.0}, {\"x\": \"1968-04-01T00:00:00\", \"grp\": \"col-0\", \"y\": 0.0}, {\"x\": \"1968-01-01T00:00:00\", \"grp\": \"col-0\", \"y\": 0.0}, {\"x\": \"1967-10-01T00:00:00\", \"grp\": \"col-0\", \"y\": 0.0}, {\"x\": \"1967-07-01T00:00:00\", \"grp\": \"col-0\", \"y\": 0.0}, {\"x\": \"1967-04-01T00:00:00\", \"grp\": \"col-0\", \"y\": 0.0}, {\"x\": \"1967-01-01T00:00:00\", \"grp\": \"col-0\", \"y\": 0.0}, {\"x\": \"1966-10-01T00:00:00\", \"grp\": \"col-0\", \"y\": 0.0}, {\"x\": \"1966-07-01T00:00:00\", \"grp\": \"col-0\", \"y\": 0.0}, {\"x\": \"1966-04-01T00:00:00\", \"grp\": \"col-0\", \"y\": 0.0}, {\"x\": \"1966-01-01T00:00:00\", \"grp\": \"col-0\", \"y\": 0.0}, {\"x\": \"1965-10-01T00:00:00\", \"grp\": \"col-0\", \"y\": 0.0}, {\"x\": \"1965-07-01T00:00:00\", \"grp\": \"col-0\", \"y\": 0.0}, {\"x\": \"1965-04-01T00:00:00\", \"grp\": \"col-0\", \"y\": 0.0}, {\"x\": \"1965-01-01T00:00:00\", \"grp\": \"col-0\", \"y\": 0.0}, {\"x\": \"1964-10-01T00:00:00\", \"grp\": \"col-0\", \"y\": 0.0}, {\"x\": \"1964-07-01T00:00:00\", \"grp\": \"col-0\", \"y\": 0.0}, {\"x\": \"1964-04-01T00:00:00\", \"grp\": \"col-0\", \"y\": 0.0}, {\"x\": \"1964-01-01T00:00:00\", \"grp\": \"col-0\", \"y\": 0.0}, {\"x\": \"1963-10-01T00:00:00\", \"grp\": \"col-0\", \"y\": 0.0}, {\"x\": \"1963-07-01T00:00:00\", \"grp\": \"col-0\", \"y\": 0.0}, {\"x\": \"1963-04-01T00:00:00\", \"grp\": \"col-0\", \"y\": 0.0}, {\"x\": \"1963-01-01T00:00:00\", \"grp\": \"col-0\", \"y\": 0.0}, {\"x\": \"1962-10-01T00:00:00\", \"grp\": \"col-0\", \"y\": 0.0}, {\"x\": \"1962-07-01T00:00:00\", \"grp\": \"col-0\", \"y\": 0.0}, {\"x\": \"1962-04-01T00:00:00\", \"grp\": \"col-0\", \"y\": 0.0}, {\"x\": \"1962-01-01T00:00:00\", \"grp\": \"col-0\", \"y\": 0.0}, {\"x\": \"1961-10-01T00:00:00\", \"grp\": \"col-0\", \"y\": 0.0}, {\"x\": \"1961-07-01T00:00:00\", \"grp\": \"col-0\", \"y\": 0.0}, {\"x\": \"1961-04-01T00:00:00\", \"grp\": \"col-0\", \"y\": 0.0}, {\"x\": \"1961-01-01T00:00:00\", \"grp\": \"col-0\", \"y\": 0.0}, {\"x\": \"1960-10-01T00:00:00\", \"grp\": \"col-0\", \"y\": 0.0}, {\"x\": \"1960-07-01T00:00:00\", \"grp\": \"col-0\", \"y\": 0.0}, {\"x\": \"1960-04-01T00:00:00\", \"grp\": \"col-0\", \"y\": 0.0}, {\"x\": \"1960-01-01T00:00:00\", \"grp\": \"col-0\", \"y\": 0.0}, {\"x\": \"1959-10-01T00:00:00\", \"grp\": \"col-0\", \"y\": 0.0}, {\"x\": \"1959-07-01T00:00:00\", \"grp\": \"col-0\", \"y\": 0.0}, {\"x\": \"1959-04-01T00:00:00\", \"grp\": \"col-0\", \"y\": 0.0}, {\"x\": \"1959-01-01T00:00:00\", \"grp\": \"col-0\", \"y\": 0.0}, {\"x\": \"1958-10-01T00:00:00\", \"grp\": \"col-0\", \"y\": 0.0}, {\"x\": \"1958-07-01T00:00:00\", \"grp\": \"col-0\", \"y\": 0.0}, {\"x\": \"1958-04-01T00:00:00\", \"grp\": \"col-0\", \"y\": 0.0}, {\"x\": \"1958-01-01T00:00:00\", \"grp\": \"col-0\", \"y\": 0.0}, {\"x\": \"1957-10-01T00:00:00\", \"grp\": \"col-0\", \"y\": 0.0}, {\"x\": \"1957-07-01T00:00:00\", \"grp\": \"col-0\", \"y\": 0.0}, {\"x\": \"1957-04-01T00:00:00\", \"grp\": \"col-0\", \"y\": 0.0}, {\"x\": \"1957-01-01T00:00:00\", \"grp\": \"col-0\", \"y\": 0.0}, {\"x\": \"1956-10-01T00:00:00\", \"grp\": \"col-0\", \"y\": 0.0}, {\"x\": \"1956-07-01T00:00:00\", \"grp\": \"col-0\", \"y\": 0.0}, {\"x\": \"1956-04-01T00:00:00\", \"grp\": \"col-0\", \"y\": 0.0}, {\"x\": \"1956-01-01T00:00:00\", \"grp\": \"col-0\", \"y\": 0.0}, {\"x\": \"1955-10-01T00:00:00\", \"grp\": \"col-0\", \"y\": 0.0}, {\"x\": \"1955-07-01T00:00:00\", \"grp\": \"col-0\", \"y\": 0.0}, {\"x\": \"1955-04-01T00:00:00\", \"grp\": \"col-0\", \"y\": 0.0}, {\"x\": \"1955-01-01T00:00:00\", \"grp\": \"col-0\", \"y\": 0.0}, {\"x\": \"1954-10-01T00:00:00\", \"grp\": \"col-0\", \"y\": 0.0}, {\"x\": \"1954-07-01T00:00:00\", \"grp\": \"col-0\", \"y\": 0.0}, {\"x\": \"1954-04-01T00:00:00\", \"grp\": \"col-0\", \"y\": 0.0}, {\"x\": \"1954-01-01T00:00:00\", \"grp\": \"col-0\", \"y\": 0.0}, {\"x\": \"1953-10-01T00:00:00\", \"grp\": \"col-0\", \"y\": 0.0}, {\"x\": \"1953-07-01T00:00:00\", \"grp\": \"col-0\", \"y\": 0.0}, {\"x\": \"1953-04-01T00:00:00\", \"grp\": \"col-0\", \"y\": 0.0}, {\"x\": \"1953-01-01T00:00:00\", \"grp\": \"col-0\", \"y\": 0.0}, {\"x\": \"1952-10-01T00:00:00\", \"grp\": \"col-0\", \"y\": 0.0}, {\"x\": \"1952-07-01T00:00:00\", \"grp\": \"col-0\", \"y\": 0.0}, {\"x\": \"1952-04-01T00:00:00\", \"grp\": \"col-0\", \"y\": 0.0}, {\"x\": \"1952-01-01T00:00:00\", \"grp\": \"col-0\", \"y\": 0.0}, {\"x\": \"1951-10-01T00:00:00\", \"grp\": \"col-0\", \"y\": 0.0}, {\"x\": \"1950-10-01T00:00:00\", \"grp\": \"col-0\", \"y\": 0.0}, {\"x\": \"1949-10-01T00:00:00\", \"grp\": \"col-0\", \"y\": 0.0}, {\"x\": \"1948-10-01T00:00:00\", \"grp\": \"col-0\", \"y\": 0.0}, {\"x\": \"1947-10-01T00:00:00\", \"grp\": \"col-0\", \"y\": 0.0}, {\"x\": \"1946-10-01T00:00:00\", \"grp\": \"col-0\", \"y\": 0.0}, {\"x\": \"1945-10-01T00:00:00\", \"grp\": \"col-0\", \"y\": 0.0}]}}, {\"mode\": \"vega-lite\"});\n",
       "</script>"
      ],
      "text/plain": [
       "alt.VConcatChart(...)"
      ]
     },
     "execution_count": 8,
     "metadata": {},
     "output_type": "execute_result"
    }
   ],
   "source": [
    "from macroecon_wrappy import plots\n",
    "charts = plots.graph_ts_js(measure, cols=['col-0'], recession_bars=False, log_scale=None)\n",
    "charts"
   ]
  },
  {
   "cell_type": "code",
   "execution_count": 9,
   "metadata": {},
   "outputs": [
    {
     "data": {
      "text/html": [
       "<div>\n",
       "<style scoped>\n",
       "    .dataframe tbody tr th:only-of-type {\n",
       "        vertical-align: middle;\n",
       "    }\n",
       "\n",
       "    .dataframe tbody tr th {\n",
       "        vertical-align: top;\n",
       "    }\n",
       "\n",
       "    .dataframe thead th {\n",
       "        text-align: right;\n",
       "    }\n",
       "</style>\n",
       "<table border=\"1\" class=\"dataframe\">\n",
       "  <thead>\n",
       "    <tr style=\"text-align: right;\">\n",
       "      <th></th>\n",
       "      <th>col-0</th>\n",
       "      <th>col-1</th>\n",
       "    </tr>\n",
       "    <tr>\n",
       "      <th>timestamp</th>\n",
       "      <th></th>\n",
       "      <th></th>\n",
       "    </tr>\n",
       "  </thead>\n",
       "  <tbody>\n",
       "    <tr>\n",
       "      <th>2025-02-01</th>\n",
       "      <td>NaN</td>\n",
       "      <td>2585.650696</td>\n",
       "    </tr>\n",
       "    <tr>\n",
       "      <th>2025-01-01</th>\n",
       "      <td>NaN</td>\n",
       "      <td>70451.416277</td>\n",
       "    </tr>\n",
       "    <tr>\n",
       "      <th>2024-12-01</th>\n",
       "      <td>NaN</td>\n",
       "      <td>48270.807965</td>\n",
       "    </tr>\n",
       "  </tbody>\n",
       "</table>\n",
       "</div>"
      ],
      "text/plain": [
       "            col-0         col-1\n",
       "timestamp                      \n",
       "2025-02-01    NaN   2585.650696\n",
       "2025-01-01    NaN  70451.416277\n",
       "2024-12-01    NaN  48270.807965"
      ]
     },
     "execution_count": 9,
     "metadata": {},
     "output_type": "execute_result"
    }
   ],
   "source": [
    "#TODO:add to measure\n",
    "import pandas as pd\n",
    "new_col0 = measure.df()['col-0'].interpolate(method='time')\n",
    "new_df = measure.df()\n",
    "new_df['col-0'] = new_col0\n",
    "new_df.head(3)"
   ]
  },
  {
   "cell_type": "code",
   "execution_count": 10,
   "metadata": {},
   "outputs": [
    {
     "data": {
      "text/html": [
       "\n",
       "<style>\n",
       "  #altair-viz-ca1f1b3d286b4c1d959b399c8877bbb8.vega-embed {\n",
       "    width: 100%;\n",
       "    display: flex;\n",
       "  }\n",
       "\n",
       "  #altair-viz-ca1f1b3d286b4c1d959b399c8877bbb8.vega-embed details,\n",
       "  #altair-viz-ca1f1b3d286b4c1d959b399c8877bbb8.vega-embed details summary {\n",
       "    position: relative;\n",
       "  }\n",
       "</style>\n",
       "<div id=\"altair-viz-ca1f1b3d286b4c1d959b399c8877bbb8\"></div>\n",
       "<script type=\"text/javascript\">\n",
       "  var VEGA_DEBUG = (typeof VEGA_DEBUG == \"undefined\") ? {} : VEGA_DEBUG;\n",
       "  (function(spec, embedOpt){\n",
       "    let outputDiv = document.currentScript.previousElementSibling;\n",
       "    if (outputDiv.id !== \"altair-viz-ca1f1b3d286b4c1d959b399c8877bbb8\") {\n",
       "      outputDiv = document.getElementById(\"altair-viz-ca1f1b3d286b4c1d959b399c8877bbb8\");\n",
       "    }\n",
       "    const paths = {\n",
       "      \"vega\": \"https://cdn.jsdelivr.net/npm/vega@5?noext\",\n",
       "      \"vega-lib\": \"https://cdn.jsdelivr.net/npm/vega-lib?noext\",\n",
       "      \"vega-lite\": \"https://cdn.jsdelivr.net/npm/vega-lite@5.20.1?noext\",\n",
       "      \"vega-embed\": \"https://cdn.jsdelivr.net/npm/vega-embed@6?noext\",\n",
       "    };\n",
       "\n",
       "    function maybeLoadScript(lib, version) {\n",
       "      var key = `${lib.replace(\"-\", \"\")}_version`;\n",
       "      return (VEGA_DEBUG[key] == version) ?\n",
       "        Promise.resolve(paths[lib]) :\n",
       "        new Promise(function(resolve, reject) {\n",
       "          var s = document.createElement('script');\n",
       "          document.getElementsByTagName(\"head\")[0].appendChild(s);\n",
       "          s.async = true;\n",
       "          s.onload = () => {\n",
       "            VEGA_DEBUG[key] = version;\n",
       "            return resolve(paths[lib]);\n",
       "          };\n",
       "          s.onerror = () => reject(`Error loading script: ${paths[lib]}`);\n",
       "          s.src = paths[lib];\n",
       "        });\n",
       "    }\n",
       "\n",
       "    function showError(err) {\n",
       "      outputDiv.innerHTML = `<div class=\"error\" style=\"color:red;\">${err}</div>`;\n",
       "      throw err;\n",
       "    }\n",
       "\n",
       "    function displayChart(vegaEmbed) {\n",
       "      vegaEmbed(outputDiv, spec, embedOpt)\n",
       "        .catch(err => showError(`Javascript Error: ${err.message}<br>This usually means there's a typo in your chart specification. See the javascript console for the full traceback.`));\n",
       "    }\n",
       "\n",
       "    if(typeof define === \"function\" && define.amd) {\n",
       "      requirejs.config({paths});\n",
       "      require([\"vega-embed\"], displayChart, err => showError(`Error loading script: ${err.message}`));\n",
       "    } else {\n",
       "      maybeLoadScript(\"vega\", \"5\")\n",
       "        .then(() => maybeLoadScript(\"vega-lite\", \"5.20.1\"))\n",
       "        .then(() => maybeLoadScript(\"vega-embed\", \"6\"))\n",
       "        .catch(showError)\n",
       "        .then(() => displayChart(vegaEmbed));\n",
       "    }\n",
       "  })({\"config\": {\"view\": {\"continuousWidth\": 300, \"continuousHeight\": 300}}, \"layer\": [{\"mark\": {\"type\": \"line\", \"stroke\": \"blue\"}, \"encoding\": {\"x\": {\"field\": \"timestamp\", \"type\": \"temporal\"}, \"y\": {\"field\": \"col-0\", \"type\": \"quantitative\"}}}, {\"mark\": {\"type\": \"line\", \"stroke\": \"orange\"}, \"encoding\": {\"x\": {\"field\": \"timestamp\", \"type\": \"temporal\"}, \"y\": {\"field\": \"col-1\", \"type\": \"quantitative\"}}}], \"data\": {\"name\": \"data-023edeed9c41a2a47cadd147faaf1e6f\"}, \"height\": 200, \"resolve\": {\"scale\": {\"y\": \"independent\"}}, \"width\": 600, \"$schema\": \"https://vega.github.io/schema/vega-lite/v5.20.1.json\", \"datasets\": {\"data-023edeed9c41a2a47cadd147faaf1e6f\": [{\"timestamp\": \"2025-02-01T00:00:00\", \"col-0\": null, \"col-1\": 2585.65069572}, {\"timestamp\": \"2025-01-01T00:00:00\", \"col-0\": null, \"col-1\": 70451.41627667}, {\"timestamp\": \"2024-12-01T00:00:00\", \"col-0\": null, \"col-1\": 48270.80796507}, {\"timestamp\": \"2024-11-01T00:00:00\", \"col-0\": null, \"col-1\": 221294.62780871}, {\"timestamp\": \"2024-10-01T00:00:00\", \"col-0\": 7243180.0, \"col-1\": 262171.21826691}, {\"timestamp\": \"2024-09-01T00:00:00\", \"col-0\": 7111399.782608695, \"col-1\": 143707.78207608}, {\"timestamp\": \"2024-08-01T00:00:00\", \"col-0\": 6975226.891304348, \"col-1\": 236307.19567983}, {\"timestamp\": \"2024-07-01T00:00:00\", \"col-0\": 6839054.0, \"col-1\": 319363.50593099}, {\"timestamp\": \"2024-06-01T00:00:00\", \"col-0\": 6743218.175824176, \"col-1\": 10110.04472855}, {\"timestamp\": \"2024-05-01T00:00:00\", \"col-0\": 6644187.824175824, \"col-1\": 122096.71612699}, {\"timestamp\": \"2024-04-01T00:00:00\", \"col-0\": 6548352.0, \"col-1\": -34010.86030088}, {\"timestamp\": \"2024-03-01T00:00:00\", \"col-0\": 6511679.340659341, \"col-1\": 134802.71661052}, {\"timestamp\": \"2024-02-01T00:00:00\", \"col-0\": 6477372.659340659, \"col-1\": 302365.95669839}, {\"timestamp\": \"2024-01-01T00:00:00\", \"col-0\": 6440700.0, \"col-1\": 137680.96415867}, {\"timestamp\": \"2023-12-01T00:00:00\", \"col-0\": 6412682.402173913, \"col-1\": 100277.7083357}, {\"timestamp\": \"2023-11-01T00:00:00\", \"col-0\": 6385568.597826087, \"col-1\": 261060.6260736}, {\"timestamp\": \"2023-10-01T00:00:00\", \"col-0\": 6357551.0, \"col-1\": 226047.09520968}, {\"timestamp\": \"2023-09-01T00:00:00\", \"col-0\": 6287576.326086956, \"col-1\": 283931.96070882}, {\"timestamp\": \"2023-08-01T00:00:00\", \"col-0\": 6215269.1630434785, \"col-1\": 328271.11044302}, {\"timestamp\": \"2023-07-01T00:00:00\", \"col-0\": 6142962.0, \"col-1\": 244162.8050378}, {\"timestamp\": \"2023-06-01T00:00:00\", \"col-0\": 6068584.747252747, \"col-1\": 823324.53621047}, {\"timestamp\": \"2023-05-01T00:00:00\", \"col-0\": 5991728.252747253, \"col-1\": 19084.63161161}, {\"timestamp\": \"2023-04-01T00:00:00\", \"col-0\": 5917351.0, \"col-1\": -87786.76153774}, {\"timestamp\": \"2023-03-01T00:00:00\", \"col-0\": 5839925.4, \"col-1\": 81031.25879053}, {\"timestamp\": \"2023-02-01T00:00:00\", \"col-0\": 5769992.6, \"col-1\": 21385.79201622}, {\"timestamp\": \"2023-01-01T00:00:00\", \"col-0\": 5692567.0, \"col-1\": 67209.3838963}, {\"timestamp\": \"2022-12-01T00:00:00\", \"col-0\": 5534363.891304348, \"col-1\": -36185.02643815}, {\"timestamp\": \"2022-11-01T00:00:00\", \"col-0\": 5381264.108695652, \"col-1\": 194995.95928543}, {\"timestamp\": \"2022-10-01T00:00:00\", \"col-0\": 5223061.0, \"col-1\": 43243.67086938}, {\"timestamp\": \"2022-09-01T00:00:00\", \"col-0\": 5177793.934782608, \"col-1\": 22310.46443815}, {\"timestamp\": \"2022-08-01T00:00:00\", \"col-0\": 5131017.967391305, \"col-1\": 308281.1358828}, {\"timestamp\": \"2022-07-01T00:00:00\", \"col-0\": 5084242.0, \"col-1\": 36706.78770589}, {\"timestamp\": \"2022-06-01T00:00:00\", \"col-0\": 5067164.087912088, \"col-1\": 3263.00807395}, {\"timestamp\": \"2022-05-01T00:00:00\", \"col-0\": 5049516.912087912, \"col-1\": 50179.51971198}, {\"timestamp\": \"2022-04-01T00:00:00\", \"col-0\": 5032439.0, \"col-1\": -40654.51319676}, {\"timestamp\": \"2022-03-01T00:00:00\", \"col-0\": 5052509.088888889, \"col-1\": 99652.38738527}, {\"timestamp\": \"2022-02-01T00:00:00\", \"col-0\": 5070636.911111111, \"col-1\": 286640.21935408}, {\"timestamp\": \"2022-01-01T00:00:00\", \"col-0\": 5090707.0, \"col-1\": 340983.19529582}, {\"timestamp\": \"2021-12-01T00:00:00\", \"col-0\": 5129372.0869565215, \"col-1\": 498338.94026493}, {\"timestamp\": \"2021-11-01T00:00:00\", \"col-0\": 5166789.9130434785, \"col-1\": 7511.87768446}, {\"timestamp\": \"2021-10-01T00:00:00\", \"col-0\": 5205455.0, \"col-1\": 356602.23207592}, {\"timestamp\": \"2021-09-01T00:00:00\", \"col-0\": 5144727.826086956, \"col-1\": 29945.13278243}, {\"timestamp\": \"2021-08-01T00:00:00\", \"col-0\": 5081976.4130434785, \"col-1\": -30374.92006165}, {\"timestamp\": \"2021-07-01T00:00:00\", \"col-0\": 5019225.0, \"col-1\": -40279.23581865}, {\"timestamp\": \"2021-06-01T00:00:00\", \"col-0\": 5017963.021978022, \"col-1\": 311415.61397617}, {\"timestamp\": \"2021-05-01T00:00:00\", \"col-0\": 5016658.978021978, \"col-1\": -30179.09826575}, {\"timestamp\": \"2021-04-01T00:00:00\", \"col-0\": 5015397.0, \"col-1\": 65521.42810255}, {\"timestamp\": \"2021-03-01T00:00:00\", \"col-0\": 5003204.011111111, \"col-1\": 226219.26138179}, {\"timestamp\": \"2021-02-01T00:00:00\", \"col-0\": 4992190.988888889, \"col-1\": 110205.66795778}, {\"timestamp\": \"2021-01-01T00:00:00\", \"col-0\": 4979998.0, \"col-1\": 11544.43453598}, {\"timestamp\": \"2020-12-01T00:00:00\", \"col-0\": 4907863.021739131, \"col-1\": 284063.56651815}, {\"timestamp\": \"2020-11-01T00:00:00\", \"col-0\": 4838054.978260869, \"col-1\": 251250.18969323}, {\"timestamp\": \"2020-10-01T00:00:00\", \"col-0\": 4765920.0, \"col-1\": 78615.74568169}, {\"timestamp\": \"2020-09-01T00:00:00\", \"col-0\": 4792306.630434782, \"col-1\": 197278.65650324}, {\"timestamp\": \"2020-08-01T00:00:00\", \"col-0\": 4819572.815217392, \"col-1\": 188751.59741544}, {\"timestamp\": \"2020-07-01T00:00:00\", \"col-0\": 4846839.0, \"col-1\": 106414.73288754}, {\"timestamp\": \"2020-06-01T00:00:00\", \"col-0\": 4926207.461538462, \"col-1\": 716272.17270711}, {\"timestamp\": \"2020-05-01T00:00:00\", \"col-0\": 5008221.538461538, \"col-1\": 759987.72823604}, {\"timestamp\": \"2020-04-01T00:00:00\", \"col-0\": 5087590.0, \"col-1\": 1386528.44710619}, {\"timestamp\": \"2020-03-01T00:00:00\", \"col-0\": 4964812.626373626, \"col-1\": 267963.97362369}, {\"timestamp\": \"2020-02-01T00:00:00\", \"col-0\": 4849956.373626374, \"col-1\": 200119.0794389}, {\"timestamp\": \"2020-01-01T00:00:00\", \"col-0\": 4727179.0, \"col-1\": 41897.68015537}, {\"timestamp\": \"2019-12-01T00:00:00\", \"col-0\": 4482982.228260869, \"col-1\": 65767.43797073}, {\"timestamp\": \"2019-11-01T00:00:00\", \"col-0\": 4246662.771739131, \"col-1\": 125462.04709271}, {\"timestamp\": \"2019-10-01T00:00:00\", \"col-0\": 4002466.0, \"col-1\": 159836.40528755}, {\"timestamp\": \"2019-09-01T00:00:00\", \"col-0\": 3947534.695652174, \"col-1\": 212618.90163855}, {\"timestamp\": \"2019-08-01T00:00:00\", \"col-0\": 3890772.347826087, \"col-1\": 386186.49919852}, {\"timestamp\": \"2019-07-01T00:00:00\", \"col-0\": 3834010.0, \"col-1\": 24421.84020796}, {\"timestamp\": \"2019-06-01T00:00:00\", \"col-0\": 3757161.208791209, \"col-1\": -12337.23198884}, {\"timestamp\": \"2019-05-01T00:00:00\", \"col-0\": 3677750.791208791, \"col-1\": 9497.27061467}, {\"timestamp\": \"2019-04-01T00:00:00\", \"col-0\": 3600902.0, \"col-1\": -12193.75613633}, {\"timestamp\": \"2019-03-01T00:00:00\", \"col-0\": 3560541.3777777776, \"col-1\": -45931.77584892}, {\"timestamp\": \"2019-02-01T00:00:00\", \"col-0\": 3524086.6222222224, \"col-1\": 149613.42710054}, {\"timestamp\": \"2019-01-01T00:00:00\", \"col-0\": 3483726.0, \"col-1\": 103.01564409}, {\"timestamp\": \"2018-12-01T00:00:00\", \"col-0\": 3418343.2934782607, \"col-1\": 58595.10258502}, {\"timestamp\": \"2018-11-01T00:00:00\", \"col-0\": 3355069.7065217393, \"col-1\": 200136.93912375}, {\"timestamp\": \"2018-10-01T00:00:00\", \"col-0\": 3289687.0, \"col-1\": 80897.14730079}, {\"timestamp\": \"2018-09-01T00:00:00\", \"col-0\": 3242006.8913043477, \"col-1\": -24436.1112487}, {\"timestamp\": \"2018-08-01T00:00:00\", \"col-0\": 3192737.445652174, \"col-1\": 214260.01030998}, {\"timestamp\": \"2018-07-01T00:00:00\", \"col-0\": 3143468.0, \"col-1\": 103329.55202779}, {\"timestamp\": \"2018-06-01T00:00:00\", \"col-0\": 3126540.087912088, \"col-1\": 39349.009553}, {\"timestamp\": \"2018-05-01T00:00:00\", \"col-0\": 3109047.912087912, \"col-1\": 93765.8435046}, {\"timestamp\": \"2018-04-01T00:00:00\", \"col-0\": 3092120.0, \"col-1\": -90029.27757851}, {\"timestamp\": \"2018-03-01T00:00:00\", \"col-0\": 3083802.7, \"col-1\": 276202.43426142}, {\"timestamp\": \"2018-02-01T00:00:00\", \"col-0\": 3076290.3, \"col-1\": 345945.11760197}, {\"timestamp\": \"2018-01-01T00:00:00\", \"col-0\": 3067973.0, \"col-1\": -13375.1085284}, {\"timestamp\": \"2017-12-01T00:00:00\", \"col-0\": 3085683.434782609, \"col-1\": -104312.95510397}, {\"timestamp\": \"2017-11-01T00:00:00\", \"col-0\": 3102822.565217391, \"col-1\": 166317.58659291}, {\"timestamp\": \"2017-10-01T00:00:00\", \"col-0\": 3120533.0, \"col-1\": 77450.33192707}, {\"timestamp\": \"2017-09-01T00:00:00\", \"col-0\": 3090983.9782608696, \"col-1\": 292221.25667794}, {\"timestamp\": \"2017-08-01T00:00:00\", \"col-0\": 3060449.9891304346, \"col-1\": 23797.46268208}, {\"timestamp\": \"2017-07-01T00:00:00\", \"col-0\": 3029916.0, \"col-1\": -5236.21657985}, {\"timestamp\": \"2017-06-01T00:00:00\", \"col-0\": 2984661.8241758244, \"col-1\": 67452.17130733}, {\"timestamp\": \"2017-05-01T00:00:00\", \"col-0\": 2937899.1758241756, \"col-1\": 5133.72355454}, {\"timestamp\": \"2017-04-01T00:00:00\", \"col-0\": 2892645.0, \"col-1\": -76244.42611781}, {\"timestamp\": \"2017-03-01T00:00:00\", \"col-0\": 2904360.2444444443, \"col-1\": -43261.87205497}, {\"timestamp\": \"2017-02-01T00:00:00\", \"col-0\": 2914941.7555555557, \"col-1\": 34804.52333303}, {\"timestamp\": \"2017-01-01T00:00:00\", \"col-0\": 2926657.0, \"col-1\": -59633.66327524}, {\"timestamp\": \"2016-12-01T00:00:00\", \"col-0\": 2936282.836956522, \"col-1\": -10115.138803}, {\"timestamp\": \"2016-11-01T00:00:00\", \"col-0\": 2945598.163043478, \"col-1\": 156726.60458395}, {\"timestamp\": \"2016-10-01T00:00:00\", \"col-0\": 2955224.0, \"col-1\": 112656.08946333}, {\"timestamp\": \"2016-09-01T00:00:00\", \"col-0\": 2951530.7391304346, \"col-1\": 68479.82486157}, {\"timestamp\": \"2016-08-01T00:00:00\", \"col-0\": 2947714.3695652173, \"col-1\": 105761.27739877}, {\"timestamp\": \"2016-07-01T00:00:00\", \"col-0\": 2943898.0, \"col-1\": 66778.0072892}, {\"timestamp\": \"2016-06-01T00:00:00\", \"col-0\": 2952318.4395604394, \"col-1\": 46080.32776185}, {\"timestamp\": \"2016-05-01T00:00:00\", \"col-0\": 2961019.5604395606, \"col-1\": 45220.63983733}, {\"timestamp\": \"2016-04-01T00:00:00\", \"col-0\": 2969440.0, \"col-1\": -83706.35884833}, {\"timestamp\": \"2016-03-01T00:00:00\", \"col-0\": 3001811.4945054944, \"col-1\": 138698.08582312}, {\"timestamp\": \"2016-02-01T00:00:00\", \"col-0\": 3032094.5054945056, \"col-1\": 127057.72586526}, {\"timestamp\": \"2016-01-01T00:00:00\", \"col-0\": 3064466.0, \"col-1\": -14754.59778205}, {\"timestamp\": \"2015-12-01T00:00:00\", \"col-0\": 3069095.1086956523, \"col-1\": 83393.12473601}, {\"timestamp\": \"2015-11-01T00:00:00\", \"col-0\": 3073574.8913043477, \"col-1\": 524795.71834959}, {\"timestamp\": \"2015-10-01T00:00:00\", \"col-0\": 3078204.0, \"col-1\": -55988.64783547}, {\"timestamp\": \"2015-09-01T00:00:00\", \"col-0\": 3057855.195652174, \"col-1\": 2892.2179032}, {\"timestamp\": \"2015-08-01T00:00:00\", \"col-0\": 3036828.097826087, \"col-1\": -16186.86591008}, {\"timestamp\": \"2015-07-01T00:00:00\", \"col-0\": 3015801.0, \"col-1\": 58192.94685507}, {\"timestamp\": \"2015-06-01T00:00:00\", \"col-0\": 2996592.098901099, \"col-1\": 20862.41442256}, {\"timestamp\": \"2015-05-01T00:00:00\", \"col-0\": 2976742.901098901, \"col-1\": -1137.64088651}, {\"timestamp\": \"2015-04-01T00:00:00\", \"col-0\": 2957534.0, \"col-1\": -36024.23620869}, {\"timestamp\": \"2015-03-01T00:00:00\", \"col-0\": 2972972.3444444444, \"col-1\": 15315.15317852}, {\"timestamp\": \"2015-02-01T00:00:00\", \"col-0\": 2986916.6555555556, \"col-1\": 88293.0}, {\"timestamp\": \"2015-01-01T00:00:00\", \"col-0\": 3002355.0, \"col-1\": -36839.0}, {\"timestamp\": \"2014-12-01T00:00:00\", \"col-0\": 3026149.184782609, \"col-1\": 101553.0}, {\"timestamp\": \"2014-11-01T00:00:00\", \"col-0\": 3049175.815217391, \"col-1\": 64849.0}, {\"timestamp\": \"2014-10-01T00:00:00\", \"col-0\": 3072970.0, \"col-1\": 74090.0}, {\"timestamp\": \"2014-09-01T00:00:00\", \"col-0\": 3039015.8695652173, \"col-1\": 51099.0}, {\"timestamp\": \"2014-08-01T00:00:00\", \"col-0\": 3003929.934782609, \"col-1\": 80884.0}, {\"timestamp\": \"2014-07-01T00:00:00\", \"col-0\": 2968844.0, \"col-1\": 79006.0}, {\"timestamp\": \"2014-06-01T00:00:00\", \"col-0\": 2952962.791208791, \"col-1\": 34376.0}, {\"timestamp\": \"2014-05-01T00:00:00\", \"col-0\": 2936552.208791209, \"col-1\": 34692.0}, {\"timestamp\": \"2014-04-01T00:00:00\", \"col-0\": 2920671.0, \"col-1\": -115417.0}, {\"timestamp\": \"2014-03-01T00:00:00\", \"col-0\": 2946542.566666667, \"col-1\": 126952.0}, {\"timestamp\": \"2014-02-01T00:00:00\", \"col-0\": 2969910.433333333, \"col-1\": 183562.0}, {\"timestamp\": \"2014-01-01T00:00:00\", \"col-0\": 2995782.0, \"col-1\": -48518.0}, {\"timestamp\": \"2013-12-01T00:00:00\", \"col-0\": 3013135.2608695654, \"col-1\": 73643.0}, {\"timestamp\": \"2013-11-01T00:00:00\", \"col-0\": 3029928.7391304346, \"col-1\": 93153.0}, {\"timestamp\": \"2013-10-01T00:00:00\", \"col-0\": 3047282.0, \"col-1\": 204141.0}, {\"timestamp\": \"2013-09-01T00:00:00\", \"col-0\": 3033322.8695652173, \"col-1\": 7392.0}, {\"timestamp\": \"2013-08-01T00:00:00\", \"col-0\": 3018898.434782609, \"col-1\": 49404.0}, {\"timestamp\": \"2013-07-01T00:00:00\", \"col-0\": 3004474.0, \"col-1\": 12220.0}, {\"timestamp\": \"2013-06-01T00:00:00\", \"col-0\": 2970535.098901099, \"col-1\": 1107.0}, {\"timestamp\": \"2013-05-01T00:00:00\", \"col-0\": 2935464.901098901, \"col-1\": -46263.0}, {\"timestamp\": \"2013-04-01T00:00:00\", \"col-0\": 2901526.0, \"col-1\": 27899.0}, {\"timestamp\": \"2013-03-01T00:00:00\", \"col-0\": 2908721.4444444445, \"col-1\": 95355.0}, {\"timestamp\": \"2013-02-01T00:00:00\", \"col-0\": 2915220.5555555555, \"col-1\": 261952.0}, {\"timestamp\": \"2013-01-01T00:00:00\", \"col-0\": 2922416.0, \"col-1\": -20938.0}, {\"timestamp\": \"2012-12-01T00:00:00\", \"col-0\": 2947410.086956522, \"col-1\": 29338.0}, {\"timestamp\": \"2012-11-01T00:00:00\", \"col-0\": 2971597.913043478, \"col-1\": 142218.0}, {\"timestamp\": \"2012-10-01T00:00:00\", \"col-0\": 2996592.0, \"col-1\": 142335.0}, {\"timestamp\": \"2012-09-01T00:00:00\", \"col-0\": 2951469.065217391, \"col-1\": -1878.0}, {\"timestamp\": \"2012-08-01T00:00:00\", \"col-0\": 2904842.032608696, \"col-1\": 150747.0}, {\"timestamp\": \"2012-07-01T00:00:00\", \"col-0\": 2858215.0, \"col-1\": 80903.0}, {\"timestamp\": \"2012-06-01T00:00:00\", \"col-0\": 2834211.3736263737, \"col-1\": 38400.0}, {\"timestamp\": \"2012-05-01T00:00:00\", \"col-0\": 2809407.6263736263, \"col-1\": 89621.0}, {\"timestamp\": \"2012-04-01T00:00:00\", \"col-0\": 2785404.0, \"col-1\": 70178.0}, {\"timestamp\": \"2012-03-01T00:00:00\", \"col-0\": 2811549.945054945, \"col-1\": 123237.0}, {\"timestamp\": \"2012-02-01T00:00:00\", \"col-0\": 2836009.054945055, \"col-1\": 150351.0}, {\"timestamp\": \"2012-01-01T00:00:00\", \"col-0\": 2862155.0, \"col-1\": 124724.0}, {\"timestamp\": \"2011-12-01T00:00:00\", \"col-0\": 2889022.2282608696, \"col-1\": 59058.0}, {\"timestamp\": \"2011-11-01T00:00:00\", \"col-0\": 2915022.7717391304, \"col-1\": 134758.0}, {\"timestamp\": \"2011-10-01T00:00:00\", \"col-0\": 2941890.0, \"col-1\": 132149.0}, {\"timestamp\": \"2011-09-01T00:00:00\", \"col-0\": 2920553.4782608696, \"col-1\": 104251.0}, {\"timestamp\": \"2011-08-01T00:00:00\", \"col-0\": 2898505.7391304346, \"col-1\": 268934.0}, {\"timestamp\": \"2011-07-01T00:00:00\", \"col-0\": 2876458.0, \"col-1\": 15877.0}, {\"timestamp\": \"2011-06-01T00:00:00\", \"col-0\": 2895710.4175824174, \"col-1\": 19948.0}, {\"timestamp\": \"2011-05-01T00:00:00\", \"col-0\": 2915604.5824175826, \"col-1\": 68143.0}, {\"timestamp\": \"2011-04-01T00:00:00\", \"col-0\": 2934857.0, \"col-1\": 4610.0}, {\"timestamp\": \"2011-03-01T00:00:00\", \"col-0\": 2947074.4444444445, \"col-1\": 86821.0}, {\"timestamp\": \"2011-02-01T00:00:00\", \"col-0\": 2958109.5555555555, \"col-1\": 80031.0}, {\"timestamp\": \"2011-01-01T00:00:00\", \"col-0\": 2970327.0, \"col-1\": 93358.0}, {\"timestamp\": \"2010-12-01T00:00:00\", \"col-0\": 2991938.717391304, \"col-1\": 114463.0}, {\"timestamp\": \"2010-11-01T00:00:00\", \"col-0\": 3012853.282608696, \"col-1\": 205633.0}, {\"timestamp\": \"2010-10-01T00:00:00\", \"col-0\": 3034465.0, \"col-1\": 47790.0}, {\"timestamp\": \"2010-09-01T00:00:00\", \"col-0\": 2956894.1304347827, \"col-1\": 97373.0}, {\"timestamp\": \"2010-08-01T00:00:00\", \"col-0\": 2876737.565217391, \"col-1\": 222985.0}, {\"timestamp\": \"2010-07-01T00:00:00\", \"col-0\": 2796581.0, \"col-1\": 69753.0}, {\"timestamp\": \"2010-06-01T00:00:00\", \"col-0\": 2802102.978021978, \"col-1\": 140932.0}, {\"timestamp\": \"2010-05-01T00:00:00\", \"col-0\": 2807809.021978022, \"col-1\": 60088.0}, {\"timestamp\": \"2010-04-01T00:00:00\", \"col-0\": 2813331.0, \"col-1\": 143469.0}, {\"timestamp\": \"2010-03-01T00:00:00\", \"col-0\": 2872050.511111111, \"col-1\": 352933.0}, {\"timestamp\": \"2010-02-01T00:00:00\", \"col-0\": 2925087.488888889, \"col-1\": 176731.0}, {\"timestamp\": \"2010-01-01T00:00:00\", \"col-0\": 2983807.0, \"col-1\": -51924.0}, {\"timestamp\": \"2009-10-01T00:00:00\", \"col-0\": 3315893.0, \"col-1\": null}, {\"timestamp\": \"2009-07-01T00:00:00\", \"col-0\": 3425463.0, \"col-1\": null}, {\"timestamp\": \"2009-04-01T00:00:00\", \"col-0\": 3653101.0, \"col-1\": null}, {\"timestamp\": \"2009-01-01T00:00:00\", \"col-0\": 3813876.0, \"col-1\": null}, {\"timestamp\": \"2008-10-01T00:00:00\", \"col-0\": 3832237.0, \"col-1\": null}, {\"timestamp\": \"2008-07-01T00:00:00\", \"col-0\": 3420293.0, \"col-1\": null}, {\"timestamp\": \"2008-04-01T00:00:00\", \"col-0\": 3377297.0, \"col-1\": null}, {\"timestamp\": \"2008-01-01T00:00:00\", \"col-0\": 3442540.0, \"col-1\": null}, {\"timestamp\": \"2007-10-01T00:00:00\", \"col-0\": 3085760.0, \"col-1\": null}, {\"timestamp\": \"2007-07-01T00:00:00\", \"col-0\": 2830799.0, \"col-1\": null}, {\"timestamp\": \"2007-04-01T00:00:00\", \"col-0\": 2514235.0, \"col-1\": null}, {\"timestamp\": \"2007-01-01T00:00:00\", \"col-0\": 2417799.0, \"col-1\": null}, {\"timestamp\": \"2006-10-01T00:00:00\", \"col-0\": 2338451.0, \"col-1\": null}, {\"timestamp\": \"2006-07-01T00:00:00\", \"col-0\": 2195786.0, \"col-1\": null}, {\"timestamp\": \"2006-04-01T00:00:00\", \"col-0\": 2094385.0, \"col-1\": null}, {\"timestamp\": \"2006-01-01T00:00:00\", \"col-0\": 2033948.0, \"col-1\": null}, {\"timestamp\": \"2005-10-01T00:00:00\", \"col-0\": 2026821.0, \"col-1\": null}, {\"timestamp\": \"2005-07-01T00:00:00\", \"col-0\": 1901890.0, \"col-1\": null}, {\"timestamp\": \"2005-04-01T00:00:00\", \"col-0\": 1853916.0, \"col-1\": null}, {\"timestamp\": \"2005-01-01T00:00:00\", \"col-0\": 1865022.0, \"col-1\": null}, {\"timestamp\": \"2004-10-01T00:00:00\", \"col-0\": 1901700.0, \"col-1\": null}, {\"timestamp\": \"2004-07-01T00:00:00\", \"col-0\": 1892172.0, \"col-1\": null}, {\"timestamp\": \"2004-04-01T00:00:00\", \"col-0\": 1941873.0, \"col-1\": null}, {\"timestamp\": \"2004-01-01T00:00:00\", \"col-0\": 1992608.0, \"col-1\": null}, {\"timestamp\": \"2003-10-01T00:00:00\", \"col-0\": 2040021.0, \"col-1\": null}, {\"timestamp\": \"2003-07-01T00:00:00\", \"col-0\": 2090350.0, \"col-1\": null}, {\"timestamp\": \"2003-04-01T00:00:00\", \"col-0\": 2157611.0, \"col-1\": null}, {\"timestamp\": \"2003-01-01T00:00:00\", \"col-0\": 2198864.0, \"col-1\": null}, {\"timestamp\": \"2002-10-01T00:00:00\", \"col-0\": 2265075.0, \"col-1\": null}, {\"timestamp\": \"2002-07-01T00:00:00\", \"col-0\": 2158164.0, \"col-1\": null}, {\"timestamp\": \"2002-04-01T00:00:00\", \"col-0\": 2190769.0, \"col-1\": null}, {\"timestamp\": \"2002-01-01T00:00:00\", \"col-0\": 2247857.0, \"col-1\": null}, {\"timestamp\": \"2001-10-01T00:00:00\", \"col-0\": 2285310.0, \"col-1\": null}, {\"timestamp\": \"2001-07-01T00:00:00\", \"col-0\": 2161638.0, \"col-1\": null}, {\"timestamp\": \"2001-04-01T00:00:00\", \"col-0\": 2052455.0, \"col-1\": null}, {\"timestamp\": \"2001-01-01T00:00:00\", \"col-0\": 2035459.0, \"col-1\": null}, {\"timestamp\": \"2000-10-01T00:00:00\", \"col-0\": 1845248.0, \"col-1\": null}, {\"timestamp\": \"2000-07-01T00:00:00\", \"col-0\": 1727378.0, \"col-1\": null}, {\"timestamp\": \"2000-04-01T00:00:00\", \"col-0\": 1658250.0, \"col-1\": null}, {\"timestamp\": \"2000-01-01T00:00:00\", \"col-0\": 1696149.0, \"col-1\": null}, {\"timestamp\": \"1999-10-01T00:00:00\", \"col-0\": 1613146.0, \"col-1\": null}, {\"timestamp\": \"1999-07-01T00:00:00\", \"col-0\": 1476728.0, \"col-1\": null}, {\"timestamp\": \"1999-04-01T00:00:00\", \"col-0\": 1420845.0, \"col-1\": null}, {\"timestamp\": \"1999-01-01T00:00:00\", \"col-0\": 1438367.0, \"col-1\": null}, {\"timestamp\": \"1998-10-01T00:00:00\", \"col-0\": 1351678.0, \"col-1\": null}, {\"timestamp\": \"1998-07-01T00:00:00\", \"col-0\": 1266902.0, \"col-1\": null}, {\"timestamp\": \"1998-04-01T00:00:00\", \"col-0\": 1168511.0, \"col-1\": null}, {\"timestamp\": \"1998-01-01T00:00:00\", \"col-0\": 1142406.0, \"col-1\": null}, {\"timestamp\": \"1997-10-01T00:00:00\", \"col-0\": 1058885.0, \"col-1\": null}, {\"timestamp\": \"1997-07-01T00:00:00\", \"col-0\": 1015127.0, \"col-1\": null}, {\"timestamp\": \"1997-04-01T00:00:00\", \"col-0\": 963700.0, \"col-1\": null}, {\"timestamp\": \"1997-01-01T00:00:00\", \"col-0\": 965433.0, \"col-1\": null}, {\"timestamp\": \"1996-10-01T00:00:00\", \"col-0\": 901807.0, \"col-1\": null}, {\"timestamp\": \"1996-07-01T00:00:00\", \"col-0\": 852063.0, \"col-1\": null}, {\"timestamp\": \"1996-04-01T00:00:00\", \"col-0\": 817748.0, \"col-1\": null}, {\"timestamp\": \"1996-01-01T00:00:00\", \"col-0\": 824202.0, \"col-1\": null}, {\"timestamp\": \"1995-10-01T00:00:00\", \"col-0\": 753018.0, \"col-1\": null}, {\"timestamp\": \"1995-07-01T00:00:00\", \"col-0\": 710873.0, \"col-1\": null}, {\"timestamp\": \"1995-04-01T00:00:00\", \"col-0\": 686673.0, \"col-1\": null}, {\"timestamp\": \"1995-01-01T00:00:00\", \"col-0\": 641874.0, \"col-1\": null}, {\"timestamp\": \"1994-10-01T00:00:00\", \"col-0\": 611005.0, \"col-1\": null}, {\"timestamp\": \"1994-07-01T00:00:00\", \"col-0\": 586195.0, \"col-1\": null}, {\"timestamp\": \"1994-04-01T00:00:00\", \"col-0\": 576632.0, \"col-1\": null}, {\"timestamp\": \"1994-01-01T00:00:00\", \"col-0\": 582288.0, \"col-1\": null}, {\"timestamp\": \"1993-10-01T00:00:00\", \"col-0\": 565319.0, \"col-1\": null}, {\"timestamp\": \"1993-07-01T00:00:00\", \"col-0\": 550522.0, \"col-1\": null}, {\"timestamp\": \"1993-04-01T00:00:00\", \"col-0\": 552412.0, \"col-1\": null}, {\"timestamp\": \"1993-01-01T00:00:00\", \"col-0\": 559524.0, \"col-1\": null}, {\"timestamp\": \"1992-10-01T00:00:00\", \"col-0\": 546194.0, \"col-1\": null}, {\"timestamp\": \"1992-07-01T00:00:00\", \"col-0\": 556864.0, \"col-1\": null}, {\"timestamp\": \"1992-04-01T00:00:00\", \"col-0\": 559738.0, \"col-1\": null}, {\"timestamp\": \"1992-01-01T00:00:00\", \"col-0\": 574836.0, \"col-1\": null}, {\"timestamp\": \"1991-10-01T00:00:00\", \"col-0\": 542441.0, \"col-1\": null}, {\"timestamp\": \"1991-07-01T00:00:00\", \"col-0\": 536008.0, \"col-1\": null}, {\"timestamp\": \"1991-04-01T00:00:00\", \"col-0\": 535657.0, \"col-1\": null}, {\"timestamp\": \"1991-01-01T00:00:00\", \"col-0\": 555411.0, \"col-1\": null}, {\"timestamp\": \"1990-10-01T00:00:00\", \"col-0\": 501268.0, \"col-1\": null}, {\"timestamp\": \"1990-07-01T00:00:00\", \"col-0\": 486898.0, \"col-1\": null}, {\"timestamp\": \"1990-04-01T00:00:00\", \"col-0\": 455295.0, \"col-1\": null}, {\"timestamp\": \"1990-01-01T00:00:00\", \"col-0\": 465696.0, \"col-1\": null}, {\"timestamp\": \"1989-10-01T00:00:00\", \"col-0\": 430007.0, \"col-1\": null}, {\"timestamp\": \"1989-07-01T00:00:00\", \"col-0\": 416782.0, \"col-1\": null}, {\"timestamp\": \"1989-04-01T00:00:00\", \"col-0\": 385856.0, \"col-1\": null}, {\"timestamp\": \"1989-01-01T00:00:00\", \"col-0\": 365061.0, \"col-1\": null}, {\"timestamp\": \"1988-10-01T00:00:00\", \"col-0\": 338862.0, \"col-1\": null}, {\"timestamp\": \"1988-07-01T00:00:00\", \"col-0\": 327157.0, \"col-1\": null}, {\"timestamp\": \"1988-04-01T00:00:00\", \"col-0\": 327808.0, \"col-1\": null}, {\"timestamp\": \"1988-01-01T00:00:00\", \"col-0\": 344684.0, \"col-1\": null}, {\"timestamp\": \"1987-10-01T00:00:00\", \"col-0\": 316096.0, \"col-1\": null}, {\"timestamp\": \"1987-07-01T00:00:00\", \"col-0\": 306182.0, \"col-1\": null}, {\"timestamp\": \"1987-04-01T00:00:00\", \"col-0\": 301489.0, \"col-1\": null}, {\"timestamp\": \"1987-01-01T00:00:00\", \"col-0\": 304475.0, \"col-1\": null}, {\"timestamp\": \"1986-10-01T00:00:00\", \"col-0\": 292152.0, \"col-1\": null}, {\"timestamp\": \"1986-07-01T00:00:00\", \"col-0\": 296048.0, \"col-1\": null}, {\"timestamp\": \"1986-04-01T00:00:00\", \"col-0\": 278099.0, \"col-1\": null}, {\"timestamp\": \"1986-01-01T00:00:00\", \"col-0\": 266529.0, \"col-1\": null}, {\"timestamp\": \"1985-10-01T00:00:00\", \"col-0\": 243803.0, \"col-1\": null}, {\"timestamp\": \"1985-07-01T00:00:00\", \"col-0\": 243416.0, \"col-1\": null}, {\"timestamp\": \"1985-04-01T00:00:00\", \"col-0\": 247095.0, \"col-1\": null}, {\"timestamp\": \"1985-01-01T00:00:00\", \"col-0\": 241000.0, \"col-1\": null}, {\"timestamp\": \"1984-10-01T00:00:00\", \"col-0\": 233554.0, \"col-1\": null}, {\"timestamp\": \"1984-07-01T00:00:00\", \"col-0\": 205269.0, \"col-1\": null}, {\"timestamp\": \"1984-04-01T00:00:00\", \"col-0\": 200096.0, \"col-1\": null}, {\"timestamp\": \"1984-01-01T00:00:00\", \"col-0\": 195074.0, \"col-1\": null}, {\"timestamp\": \"1983-10-01T00:00:00\", \"col-0\": 179467.0, \"col-1\": null}, {\"timestamp\": \"1983-07-01T00:00:00\", \"col-0\": 179590.0, \"col-1\": null}, {\"timestamp\": \"1983-04-01T00:00:00\", \"col-0\": 180893.0, \"col-1\": null}, {\"timestamp\": \"1983-01-01T00:00:00\", \"col-0\": 197336.0, \"col-1\": null}, {\"timestamp\": \"1982-10-01T00:00:00\", \"col-0\": 219928.0, \"col-1\": null}, {\"timestamp\": \"1982-07-01T00:00:00\", \"col-0\": 235246.0, \"col-1\": null}, {\"timestamp\": \"1982-04-01T00:00:00\", \"col-0\": 209680.0, \"col-1\": null}, {\"timestamp\": \"1982-01-01T00:00:00\", \"col-0\": 198732.0, \"col-1\": null}, {\"timestamp\": \"1981-10-01T00:00:00\", \"col-0\": 186305.0, \"col-1\": null}, {\"timestamp\": \"1981-07-01T00:00:00\", \"col-0\": 164470.0, \"col-1\": null}, {\"timestamp\": \"1981-04-01T00:00:00\", \"col-0\": 129871.0, \"col-1\": null}, {\"timestamp\": \"1981-01-01T00:00:00\", \"col-0\": 114223.0, \"col-1\": null}, {\"timestamp\": \"1980-10-01T00:00:00\", \"col-0\": 76415.0, \"col-1\": null}, {\"timestamp\": \"1980-07-01T00:00:00\", \"col-0\": 79901.0, \"col-1\": null}, {\"timestamp\": \"1980-04-01T00:00:00\", \"col-0\": 77827.0, \"col-1\": null}, {\"timestamp\": \"1980-01-01T00:00:00\", \"col-0\": 61292.0, \"col-1\": null}, {\"timestamp\": \"1979-10-01T00:00:00\", \"col-0\": 45214.0, \"col-1\": null}, {\"timestamp\": \"1979-07-01T00:00:00\", \"col-0\": 34194.0, \"col-1\": null}, {\"timestamp\": \"1979-04-01T00:00:00\", \"col-0\": 25915.0, \"col-1\": null}, {\"timestamp\": \"1979-01-01T00:00:00\", \"col-0\": 18020.0, \"col-1\": null}, {\"timestamp\": \"1978-10-01T00:00:00\", \"col-0\": 10808.0, \"col-1\": null}, {\"timestamp\": \"1978-07-01T00:00:00\", \"col-0\": 8407.0, \"col-1\": null}, {\"timestamp\": \"1978-04-01T00:00:00\", \"col-0\": 6959.0, \"col-1\": null}, {\"timestamp\": \"1978-01-01T00:00:00\", \"col-0\": 5620.0, \"col-1\": null}, {\"timestamp\": \"1977-10-01T00:00:00\", \"col-0\": 3887.0, \"col-1\": null}, {\"timestamp\": \"1977-07-01T00:00:00\", \"col-0\": 3463.0, \"col-1\": null}, {\"timestamp\": \"1977-04-01T00:00:00\", \"col-0\": 3443.0, \"col-1\": null}, {\"timestamp\": \"1977-01-01T00:00:00\", \"col-0\": 3460.0, \"col-1\": null}, {\"timestamp\": \"1976-10-01T00:00:00\", \"col-0\": 3404.0, \"col-1\": null}, {\"timestamp\": \"1976-07-01T00:00:00\", \"col-0\": 3421.0, \"col-1\": null}, {\"timestamp\": \"1976-04-01T00:00:00\", \"col-0\": 3430.0, \"col-1\": null}, {\"timestamp\": \"1976-01-01T00:00:00\", \"col-0\": 3712.0, \"col-1\": null}, {\"timestamp\": \"1975-10-01T00:00:00\", \"col-0\": 3645.0, \"col-1\": null}, {\"timestamp\": \"1975-07-01T00:00:00\", \"col-0\": 3708.0, \"col-1\": null}, {\"timestamp\": \"1975-04-01T00:00:00\", \"col-0\": 3661.0, \"col-1\": null}, {\"timestamp\": \"1975-01-01T00:00:00\", \"col-0\": 3620.0, \"col-1\": null}, {\"timestamp\": \"1974-10-01T00:00:00\", \"col-0\": 2379.0, \"col-1\": null}, {\"timestamp\": \"1974-07-01T00:00:00\", \"col-0\": 1386.0, \"col-1\": null}, {\"timestamp\": \"1974-04-01T00:00:00\", \"col-0\": 570.0, \"col-1\": null}, {\"timestamp\": \"1974-01-01T00:00:00\", \"col-0\": 263.0, \"col-1\": null}, {\"timestamp\": \"1973-10-01T00:00:00\", \"col-0\": 0.0, \"col-1\": null}, {\"timestamp\": \"1973-07-01T00:00:00\", \"col-0\": 0.0, \"col-1\": null}, {\"timestamp\": \"1973-04-01T00:00:00\", \"col-0\": 0.0, \"col-1\": null}, {\"timestamp\": \"1973-01-01T00:00:00\", \"col-0\": 0.0, \"col-1\": null}, {\"timestamp\": \"1972-10-01T00:00:00\", \"col-0\": 0.0, \"col-1\": null}, {\"timestamp\": \"1972-07-01T00:00:00\", \"col-0\": 0.0, \"col-1\": null}, {\"timestamp\": \"1972-04-01T00:00:00\", \"col-0\": 0.0, \"col-1\": null}, {\"timestamp\": \"1972-01-01T00:00:00\", \"col-0\": 0.0, \"col-1\": null}, {\"timestamp\": \"1971-10-01T00:00:00\", \"col-0\": 0.0, \"col-1\": null}, {\"timestamp\": \"1971-07-01T00:00:00\", \"col-0\": 0.0, \"col-1\": null}, {\"timestamp\": \"1971-04-01T00:00:00\", \"col-0\": 0.0, \"col-1\": null}, {\"timestamp\": \"1971-01-01T00:00:00\", \"col-0\": 0.0, \"col-1\": null}, {\"timestamp\": \"1970-10-01T00:00:00\", \"col-0\": 0.0, \"col-1\": null}, {\"timestamp\": \"1970-07-01T00:00:00\", \"col-0\": 0.0, \"col-1\": null}, {\"timestamp\": \"1970-04-01T00:00:00\", \"col-0\": 0.0, \"col-1\": null}, {\"timestamp\": \"1970-01-01T00:00:00\", \"col-0\": 0.0, \"col-1\": null}, {\"timestamp\": \"1969-10-01T00:00:00\", \"col-0\": 0.0, \"col-1\": null}, {\"timestamp\": \"1969-07-01T00:00:00\", \"col-0\": 0.0, \"col-1\": null}, {\"timestamp\": \"1969-04-01T00:00:00\", \"col-0\": 0.0, \"col-1\": null}, {\"timestamp\": \"1969-01-01T00:00:00\", \"col-0\": 0.0, \"col-1\": null}, {\"timestamp\": \"1968-10-01T00:00:00\", \"col-0\": 0.0, \"col-1\": null}, {\"timestamp\": \"1968-07-01T00:00:00\", \"col-0\": 0.0, \"col-1\": null}, {\"timestamp\": \"1968-04-01T00:00:00\", \"col-0\": 0.0, \"col-1\": null}, {\"timestamp\": \"1968-01-01T00:00:00\", \"col-0\": 0.0, \"col-1\": null}, {\"timestamp\": \"1967-10-01T00:00:00\", \"col-0\": 0.0, \"col-1\": null}, {\"timestamp\": \"1967-07-01T00:00:00\", \"col-0\": 0.0, \"col-1\": null}, {\"timestamp\": \"1967-04-01T00:00:00\", \"col-0\": 0.0, \"col-1\": null}, {\"timestamp\": \"1967-01-01T00:00:00\", \"col-0\": 0.0, \"col-1\": null}, {\"timestamp\": \"1966-10-01T00:00:00\", \"col-0\": 0.0, \"col-1\": null}, {\"timestamp\": \"1966-07-01T00:00:00\", \"col-0\": 0.0, \"col-1\": null}, {\"timestamp\": \"1966-04-01T00:00:00\", \"col-0\": 0.0, \"col-1\": null}, {\"timestamp\": \"1966-01-01T00:00:00\", \"col-0\": 0.0, \"col-1\": null}, {\"timestamp\": \"1965-10-01T00:00:00\", \"col-0\": 0.0, \"col-1\": null}, {\"timestamp\": \"1965-07-01T00:00:00\", \"col-0\": 0.0, \"col-1\": null}, {\"timestamp\": \"1965-04-01T00:00:00\", \"col-0\": 0.0, \"col-1\": null}, {\"timestamp\": \"1965-01-01T00:00:00\", \"col-0\": 0.0, \"col-1\": null}, {\"timestamp\": \"1964-10-01T00:00:00\", \"col-0\": 0.0, \"col-1\": null}, {\"timestamp\": \"1964-07-01T00:00:00\", \"col-0\": 0.0, \"col-1\": null}, {\"timestamp\": \"1964-04-01T00:00:00\", \"col-0\": 0.0, \"col-1\": null}, {\"timestamp\": \"1964-01-01T00:00:00\", \"col-0\": 0.0, \"col-1\": null}, {\"timestamp\": \"1963-10-01T00:00:00\", \"col-0\": 0.0, \"col-1\": null}, {\"timestamp\": \"1963-07-01T00:00:00\", \"col-0\": 0.0, \"col-1\": null}, {\"timestamp\": \"1963-04-01T00:00:00\", \"col-0\": 0.0, \"col-1\": null}, {\"timestamp\": \"1963-01-01T00:00:00\", \"col-0\": 0.0, \"col-1\": null}, {\"timestamp\": \"1962-10-01T00:00:00\", \"col-0\": 0.0, \"col-1\": null}, {\"timestamp\": \"1962-07-01T00:00:00\", \"col-0\": 0.0, \"col-1\": null}, {\"timestamp\": \"1962-04-01T00:00:00\", \"col-0\": 0.0, \"col-1\": null}, {\"timestamp\": \"1962-01-01T00:00:00\", \"col-0\": 0.0, \"col-1\": null}, {\"timestamp\": \"1961-10-01T00:00:00\", \"col-0\": 0.0, \"col-1\": null}, {\"timestamp\": \"1961-07-01T00:00:00\", \"col-0\": 0.0, \"col-1\": null}, {\"timestamp\": \"1961-04-01T00:00:00\", \"col-0\": 0.0, \"col-1\": null}, {\"timestamp\": \"1961-01-01T00:00:00\", \"col-0\": 0.0, \"col-1\": null}, {\"timestamp\": \"1960-10-01T00:00:00\", \"col-0\": 0.0, \"col-1\": null}, {\"timestamp\": \"1960-07-01T00:00:00\", \"col-0\": 0.0, \"col-1\": null}, {\"timestamp\": \"1960-04-01T00:00:00\", \"col-0\": 0.0, \"col-1\": null}, {\"timestamp\": \"1960-01-01T00:00:00\", \"col-0\": 0.0, \"col-1\": null}, {\"timestamp\": \"1959-10-01T00:00:00\", \"col-0\": 0.0, \"col-1\": null}, {\"timestamp\": \"1959-07-01T00:00:00\", \"col-0\": 0.0, \"col-1\": null}, {\"timestamp\": \"1959-04-01T00:00:00\", \"col-0\": 0.0, \"col-1\": null}, {\"timestamp\": \"1959-01-01T00:00:00\", \"col-0\": 0.0, \"col-1\": null}, {\"timestamp\": \"1958-10-01T00:00:00\", \"col-0\": 0.0, \"col-1\": null}, {\"timestamp\": \"1958-07-01T00:00:00\", \"col-0\": 0.0, \"col-1\": null}, {\"timestamp\": \"1958-04-01T00:00:00\", \"col-0\": 0.0, \"col-1\": null}, {\"timestamp\": \"1958-01-01T00:00:00\", \"col-0\": 0.0, \"col-1\": null}, {\"timestamp\": \"1957-10-01T00:00:00\", \"col-0\": 0.0, \"col-1\": null}, {\"timestamp\": \"1957-07-01T00:00:00\", \"col-0\": 0.0, \"col-1\": null}, {\"timestamp\": \"1957-04-01T00:00:00\", \"col-0\": 0.0, \"col-1\": null}, {\"timestamp\": \"1957-01-01T00:00:00\", \"col-0\": 0.0, \"col-1\": null}, {\"timestamp\": \"1956-10-01T00:00:00\", \"col-0\": 0.0, \"col-1\": null}, {\"timestamp\": \"1956-07-01T00:00:00\", \"col-0\": 0.0, \"col-1\": null}, {\"timestamp\": \"1956-04-01T00:00:00\", \"col-0\": 0.0, \"col-1\": null}, {\"timestamp\": \"1956-01-01T00:00:00\", \"col-0\": 0.0, \"col-1\": null}, {\"timestamp\": \"1955-10-01T00:00:00\", \"col-0\": 0.0, \"col-1\": null}, {\"timestamp\": \"1955-07-01T00:00:00\", \"col-0\": 0.0, \"col-1\": null}, {\"timestamp\": \"1955-04-01T00:00:00\", \"col-0\": 0.0, \"col-1\": null}, {\"timestamp\": \"1955-01-01T00:00:00\", \"col-0\": 0.0, \"col-1\": null}, {\"timestamp\": \"1954-10-01T00:00:00\", \"col-0\": 0.0, \"col-1\": null}, {\"timestamp\": \"1954-07-01T00:00:00\", \"col-0\": 0.0, \"col-1\": null}, {\"timestamp\": \"1954-04-01T00:00:00\", \"col-0\": 0.0, \"col-1\": null}, {\"timestamp\": \"1954-01-01T00:00:00\", \"col-0\": 0.0, \"col-1\": null}, {\"timestamp\": \"1953-10-01T00:00:00\", \"col-0\": 0.0, \"col-1\": null}, {\"timestamp\": \"1953-07-01T00:00:00\", \"col-0\": 0.0, \"col-1\": null}, {\"timestamp\": \"1953-04-01T00:00:00\", \"col-0\": 0.0, \"col-1\": null}, {\"timestamp\": \"1953-01-01T00:00:00\", \"col-0\": 0.0, \"col-1\": null}, {\"timestamp\": \"1952-10-01T00:00:00\", \"col-0\": 0.0, \"col-1\": null}, {\"timestamp\": \"1952-07-01T00:00:00\", \"col-0\": 0.0, \"col-1\": null}, {\"timestamp\": \"1952-04-01T00:00:00\", \"col-0\": 0.0, \"col-1\": null}, {\"timestamp\": \"1952-01-01T00:00:00\", \"col-0\": 0.0, \"col-1\": null}, {\"timestamp\": \"1951-10-01T00:00:00\", \"col-0\": 0.0, \"col-1\": null}, {\"timestamp\": \"1951-07-01T00:00:00\", \"col-0\": 0.0, \"col-1\": null}, {\"timestamp\": \"1951-04-01T00:00:00\", \"col-0\": 0.0, \"col-1\": null}, {\"timestamp\": \"1951-01-01T00:00:00\", \"col-0\": 0.0, \"col-1\": null}, {\"timestamp\": \"1950-10-01T00:00:00\", \"col-0\": 0.0, \"col-1\": null}, {\"timestamp\": \"1950-07-01T00:00:00\", \"col-0\": 0.0, \"col-1\": null}, {\"timestamp\": \"1950-04-01T00:00:00\", \"col-0\": 0.0, \"col-1\": null}, {\"timestamp\": \"1950-01-01T00:00:00\", \"col-0\": 0.0, \"col-1\": null}, {\"timestamp\": \"1949-10-01T00:00:00\", \"col-0\": 0.0, \"col-1\": null}, {\"timestamp\": \"1949-07-01T00:00:00\", \"col-0\": 0.0, \"col-1\": null}, {\"timestamp\": \"1949-04-01T00:00:00\", \"col-0\": 0.0, \"col-1\": null}, {\"timestamp\": \"1949-01-01T00:00:00\", \"col-0\": 0.0, \"col-1\": null}, {\"timestamp\": \"1948-10-01T00:00:00\", \"col-0\": 0.0, \"col-1\": null}, {\"timestamp\": \"1948-07-01T00:00:00\", \"col-0\": 0.0, \"col-1\": null}, {\"timestamp\": \"1948-04-01T00:00:00\", \"col-0\": 0.0, \"col-1\": null}, {\"timestamp\": \"1948-01-01T00:00:00\", \"col-0\": 0.0, \"col-1\": null}, {\"timestamp\": \"1947-10-01T00:00:00\", \"col-0\": 0.0, \"col-1\": null}, {\"timestamp\": \"1947-07-01T00:00:00\", \"col-0\": 0.0, \"col-1\": null}, {\"timestamp\": \"1947-04-01T00:00:00\", \"col-0\": 0.0, \"col-1\": null}, {\"timestamp\": \"1947-01-01T00:00:00\", \"col-0\": 0.0, \"col-1\": null}, {\"timestamp\": \"1946-10-01T00:00:00\", \"col-0\": 0.0, \"col-1\": null}, {\"timestamp\": \"1946-07-01T00:00:00\", \"col-0\": 0.0, \"col-1\": null}, {\"timestamp\": \"1946-04-01T00:00:00\", \"col-0\": 0.0, \"col-1\": null}, {\"timestamp\": \"1946-01-01T00:00:00\", \"col-0\": 0.0, \"col-1\": null}, {\"timestamp\": \"1945-10-01T00:00:00\", \"col-0\": 0.0, \"col-1\": null}]}}, {\"mode\": \"vega-lite\"});\n",
       "</script>"
      ],
      "text/plain": [
       "alt.LayerChart(...)"
      ]
     },
     "execution_count": 10,
     "metadata": {},
     "output_type": "execute_result"
    }
   ],
   "source": [
    "#TODO:add to plot\n",
    "import altair as alt\n",
    "source = new_df\n",
    "base = alt.Chart(source.reset_index(), width=600, height=200).encode(x='timestamp:T')\n",
    "line1 = base.mark_line(stroke='blue').encode(alt.Y('col-0'))#.transform_filter('isValid(datum.line)')\n",
    "line2 = base.mark_line(stroke='orange').encode(alt.Y('col-1'))\n",
    "(line1 + line2).resolve_scale(y = 'independent')"
   ]
  },
  {
   "cell_type": "code",
   "execution_count": 19,
   "metadata": {},
   "outputs": [
    {
     "data": {
      "text/html": [
       "\n",
       "<style>\n",
       "  #altair-viz-588a58d9bc6f405faa1eac6b622544d4.vega-embed {\n",
       "    width: 100%;\n",
       "    display: flex;\n",
       "  }\n",
       "\n",
       "  #altair-viz-588a58d9bc6f405faa1eac6b622544d4.vega-embed details,\n",
       "  #altair-viz-588a58d9bc6f405faa1eac6b622544d4.vega-embed details summary {\n",
       "    position: relative;\n",
       "  }\n",
       "</style>\n",
       "<div id=\"altair-viz-588a58d9bc6f405faa1eac6b622544d4\"></div>\n",
       "<script type=\"text/javascript\">\n",
       "  var VEGA_DEBUG = (typeof VEGA_DEBUG == \"undefined\") ? {} : VEGA_DEBUG;\n",
       "  (function(spec, embedOpt){\n",
       "    let outputDiv = document.currentScript.previousElementSibling;\n",
       "    if (outputDiv.id !== \"altair-viz-588a58d9bc6f405faa1eac6b622544d4\") {\n",
       "      outputDiv = document.getElementById(\"altair-viz-588a58d9bc6f405faa1eac6b622544d4\");\n",
       "    }\n",
       "    const paths = {\n",
       "      \"vega\": \"https://cdn.jsdelivr.net/npm/vega@5?noext\",\n",
       "      \"vega-lib\": \"https://cdn.jsdelivr.net/npm/vega-lib?noext\",\n",
       "      \"vega-lite\": \"https://cdn.jsdelivr.net/npm/vega-lite@5.20.1?noext\",\n",
       "      \"vega-embed\": \"https://cdn.jsdelivr.net/npm/vega-embed@6?noext\",\n",
       "    };\n",
       "\n",
       "    function maybeLoadScript(lib, version) {\n",
       "      var key = `${lib.replace(\"-\", \"\")}_version`;\n",
       "      return (VEGA_DEBUG[key] == version) ?\n",
       "        Promise.resolve(paths[lib]) :\n",
       "        new Promise(function(resolve, reject) {\n",
       "          var s = document.createElement('script');\n",
       "          document.getElementsByTagName(\"head\")[0].appendChild(s);\n",
       "          s.async = true;\n",
       "          s.onload = () => {\n",
       "            VEGA_DEBUG[key] = version;\n",
       "            return resolve(paths[lib]);\n",
       "          };\n",
       "          s.onerror = () => reject(`Error loading script: ${paths[lib]}`);\n",
       "          s.src = paths[lib];\n",
       "        });\n",
       "    }\n",
       "\n",
       "    function showError(err) {\n",
       "      outputDiv.innerHTML = `<div class=\"error\" style=\"color:red;\">${err}</div>`;\n",
       "      throw err;\n",
       "    }\n",
       "\n",
       "    function displayChart(vegaEmbed) {\n",
       "      vegaEmbed(outputDiv, spec, embedOpt)\n",
       "        .catch(err => showError(`Javascript Error: ${err.message}<br>This usually means there's a typo in your chart specification. See the javascript console for the full traceback.`));\n",
       "    }\n",
       "\n",
       "    if(typeof define === \"function\" && define.amd) {\n",
       "      requirejs.config({paths});\n",
       "      require([\"vega-embed\"], displayChart, err => showError(`Error loading script: ${err.message}`));\n",
       "    } else {\n",
       "      maybeLoadScript(\"vega\", \"5\")\n",
       "        .then(() => maybeLoadScript(\"vega-lite\", \"5.20.1\"))\n",
       "        .then(() => maybeLoadScript(\"vega-embed\", \"6\"))\n",
       "        .catch(showError)\n",
       "        .then(() => displayChart(vegaEmbed));\n",
       "    }\n",
       "  })({\"config\": {\"view\": {\"continuousWidth\": 300, \"continuousHeight\": 300}}, \"data\": {\"name\": \"data-c0d0d35169e1cb19f4a6ec303a4ea660\"}, \"mark\": {\"type\": \"line\", \"stroke\": \"blue\"}, \"encoding\": {\"x\": {\"field\": \"timestamp\", \"type\": \"temporal\"}, \"y\": {\"field\": \"cum\", \"type\": \"quantitative\"}}, \"height\": 200, \"width\": 600, \"$schema\": \"https://vega.github.io/schema/vega-lite/v5.20.1.json\", \"datasets\": {\"data-c0d0d35169e1cb19f4a6ec303a4ea660\": [{\"timestamp\": \"2010-01-01T00:00:00\", \"cum\": -51924.0}, {\"timestamp\": \"2010-02-01T00:00:00\", \"cum\": 124807.0}, {\"timestamp\": \"2010-03-01T00:00:00\", \"cum\": 477740.0}, {\"timestamp\": \"2010-04-01T00:00:00\", \"cum\": 621209.0}, {\"timestamp\": \"2010-05-01T00:00:00\", \"cum\": 681297.0}, {\"timestamp\": \"2010-06-01T00:00:00\", \"cum\": 822229.0}, {\"timestamp\": \"2010-07-01T00:00:00\", \"cum\": 891982.0}, {\"timestamp\": \"2010-08-01T00:00:00\", \"cum\": 1114967.0}, {\"timestamp\": \"2010-09-01T00:00:00\", \"cum\": 1212340.0}, {\"timestamp\": \"2010-10-01T00:00:00\", \"cum\": 1260130.0}, {\"timestamp\": \"2010-11-01T00:00:00\", \"cum\": 1465763.0}, {\"timestamp\": \"2010-12-01T00:00:00\", \"cum\": 1580226.0}, {\"timestamp\": \"2011-01-01T00:00:00\", \"cum\": 1673584.0}, {\"timestamp\": \"2011-02-01T00:00:00\", \"cum\": 1753615.0}, {\"timestamp\": \"2011-03-01T00:00:00\", \"cum\": 1840436.0}, {\"timestamp\": \"2011-04-01T00:00:00\", \"cum\": 1845046.0}, {\"timestamp\": \"2011-05-01T00:00:00\", \"cum\": 1913189.0}, {\"timestamp\": \"2011-06-01T00:00:00\", \"cum\": 1933137.0}, {\"timestamp\": \"2011-07-01T00:00:00\", \"cum\": 1949014.0}, {\"timestamp\": \"2011-08-01T00:00:00\", \"cum\": 2217948.0}, {\"timestamp\": \"2011-09-01T00:00:00\", \"cum\": 2322199.0}, {\"timestamp\": \"2011-10-01T00:00:00\", \"cum\": 2454348.0}, {\"timestamp\": \"2011-11-01T00:00:00\", \"cum\": 2589106.0}, {\"timestamp\": \"2011-12-01T00:00:00\", \"cum\": 2648164.0}, {\"timestamp\": \"2012-01-01T00:00:00\", \"cum\": 2772888.0}, {\"timestamp\": \"2012-02-01T00:00:00\", \"cum\": 2923239.0}, {\"timestamp\": \"2012-03-01T00:00:00\", \"cum\": 3046476.0}, {\"timestamp\": \"2012-04-01T00:00:00\", \"cum\": 3116654.0}, {\"timestamp\": \"2012-05-01T00:00:00\", \"cum\": 3206275.0}, {\"timestamp\": \"2012-06-01T00:00:00\", \"cum\": 3244675.0}, {\"timestamp\": \"2012-07-01T00:00:00\", \"cum\": 3325578.0}, {\"timestamp\": \"2012-08-01T00:00:00\", \"cum\": 3476325.0}, {\"timestamp\": \"2012-09-01T00:00:00\", \"cum\": 3474447.0}, {\"timestamp\": \"2012-10-01T00:00:00\", \"cum\": 3616782.0}, {\"timestamp\": \"2012-11-01T00:00:00\", \"cum\": 3759000.0}, {\"timestamp\": \"2012-12-01T00:00:00\", \"cum\": 3788338.0}, {\"timestamp\": \"2013-01-01T00:00:00\", \"cum\": 3767400.0}, {\"timestamp\": \"2013-02-01T00:00:00\", \"cum\": 4029352.0}, {\"timestamp\": \"2013-03-01T00:00:00\", \"cum\": 4124707.0}, {\"timestamp\": \"2013-04-01T00:00:00\", \"cum\": 4152606.0}, {\"timestamp\": \"2013-05-01T00:00:00\", \"cum\": 4106343.0}, {\"timestamp\": \"2013-06-01T00:00:00\", \"cum\": 4107450.0}, {\"timestamp\": \"2013-07-01T00:00:00\", \"cum\": 4119670.0}, {\"timestamp\": \"2013-08-01T00:00:00\", \"cum\": 4169074.0}, {\"timestamp\": \"2013-09-01T00:00:00\", \"cum\": 4176466.0}, {\"timestamp\": \"2013-10-01T00:00:00\", \"cum\": 4380607.0}, {\"timestamp\": \"2013-11-01T00:00:00\", \"cum\": 4473760.0}, {\"timestamp\": \"2013-12-01T00:00:00\", \"cum\": 4547403.0}, {\"timestamp\": \"2014-01-01T00:00:00\", \"cum\": 4498885.0}, {\"timestamp\": \"2014-02-01T00:00:00\", \"cum\": 4682447.0}, {\"timestamp\": \"2014-03-01T00:00:00\", \"cum\": 4809399.0}, {\"timestamp\": \"2014-04-01T00:00:00\", \"cum\": 4693982.0}, {\"timestamp\": \"2014-05-01T00:00:00\", \"cum\": 4728674.0}, {\"timestamp\": \"2014-06-01T00:00:00\", \"cum\": 4763050.0}, {\"timestamp\": \"2014-07-01T00:00:00\", \"cum\": 4842056.0}, {\"timestamp\": \"2014-08-01T00:00:00\", \"cum\": 4922940.0}, {\"timestamp\": \"2014-09-01T00:00:00\", \"cum\": 4974039.0}, {\"timestamp\": \"2014-10-01T00:00:00\", \"cum\": 5048129.0}, {\"timestamp\": \"2014-11-01T00:00:00\", \"cum\": 5112978.0}, {\"timestamp\": \"2014-12-01T00:00:00\", \"cum\": 5214531.0}, {\"timestamp\": \"2015-01-01T00:00:00\", \"cum\": 5177692.0}, {\"timestamp\": \"2015-02-01T00:00:00\", \"cum\": 5265985.0}, {\"timestamp\": \"2015-03-01T00:00:00\", \"cum\": 5281300.15317852}, {\"timestamp\": \"2015-04-01T00:00:00\", \"cum\": 5245275.916969829}, {\"timestamp\": \"2015-05-01T00:00:00\", \"cum\": 5244138.276083319}, {\"timestamp\": \"2015-06-01T00:00:00\", \"cum\": 5265000.690505879}, {\"timestamp\": \"2015-07-01T00:00:00\", \"cum\": 5323193.637360949}, {\"timestamp\": \"2015-08-01T00:00:00\", \"cum\": 5307006.771450869}, {\"timestamp\": \"2015-09-01T00:00:00\", \"cum\": 5309898.989354068}, {\"timestamp\": \"2015-10-01T00:00:00\", \"cum\": 5253910.341518599}, {\"timestamp\": \"2015-11-01T00:00:00\", \"cum\": 5778706.059868189}, {\"timestamp\": \"2015-12-01T00:00:00\", \"cum\": 5862099.184604199}, {\"timestamp\": \"2016-01-01T00:00:00\", \"cum\": 5847344.586822148}, {\"timestamp\": \"2016-02-01T00:00:00\", \"cum\": 5974402.312687408}, {\"timestamp\": \"2016-03-01T00:00:00\", \"cum\": 6113100.398510528}, {\"timestamp\": \"2016-04-01T00:00:00\", \"cum\": 6029394.039662198}, {\"timestamp\": \"2016-05-01T00:00:00\", \"cum\": 6074614.679499528}, {\"timestamp\": \"2016-06-01T00:00:00\", \"cum\": 6120695.007261379}, {\"timestamp\": \"2016-07-01T00:00:00\", \"cum\": 6187473.014550579}, {\"timestamp\": \"2016-08-01T00:00:00\", \"cum\": 6293234.2919493485}, {\"timestamp\": \"2016-09-01T00:00:00\", \"cum\": 6361714.116810919}, {\"timestamp\": \"2016-10-01T00:00:00\", \"cum\": 6474370.206274249}, {\"timestamp\": \"2016-11-01T00:00:00\", \"cum\": 6631096.810858198}, {\"timestamp\": \"2016-12-01T00:00:00\", \"cum\": 6620981.672055199}, {\"timestamp\": \"2017-01-01T00:00:00\", \"cum\": 6561348.008779959}, {\"timestamp\": \"2017-02-01T00:00:00\", \"cum\": 6596152.532112989}, {\"timestamp\": \"2017-03-01T00:00:00\", \"cum\": 6552890.660058019}, {\"timestamp\": \"2017-04-01T00:00:00\", \"cum\": 6476646.233940208}, {\"timestamp\": \"2017-05-01T00:00:00\", \"cum\": 6481779.957494749}, {\"timestamp\": \"2017-06-01T00:00:00\", \"cum\": 6549232.128802079}, {\"timestamp\": \"2017-07-01T00:00:00\", \"cum\": 6543995.912222229}, {\"timestamp\": \"2017-08-01T00:00:00\", \"cum\": 6567793.374904309}, {\"timestamp\": \"2017-09-01T00:00:00\", \"cum\": 6860014.631582249}, {\"timestamp\": \"2017-10-01T00:00:00\", \"cum\": 6937464.963509319}, {\"timestamp\": \"2017-11-01T00:00:00\", \"cum\": 7103782.550102229}, {\"timestamp\": \"2017-12-01T00:00:00\", \"cum\": 6999469.594998259}, {\"timestamp\": \"2018-01-01T00:00:00\", \"cum\": 6986094.486469859}, {\"timestamp\": \"2018-02-01T00:00:00\", \"cum\": 7332039.6040718295}, {\"timestamp\": \"2018-03-01T00:00:00\", \"cum\": 7608242.038333249}, {\"timestamp\": \"2018-04-01T00:00:00\", \"cum\": 7518212.760754739}, {\"timestamp\": \"2018-05-01T00:00:00\", \"cum\": 7611978.604259339}, {\"timestamp\": \"2018-06-01T00:00:00\", \"cum\": 7651327.6138123395}, {\"timestamp\": \"2018-07-01T00:00:00\", \"cum\": 7754657.165840129}, {\"timestamp\": \"2018-08-01T00:00:00\", \"cum\": 7968917.17615011}, {\"timestamp\": \"2018-09-01T00:00:00\", \"cum\": 7944481.06490141}, {\"timestamp\": \"2018-10-01T00:00:00\", \"cum\": 8025378.2122022}, {\"timestamp\": \"2018-11-01T00:00:00\", \"cum\": 8225515.1513259495}, {\"timestamp\": \"2018-12-01T00:00:00\", \"cum\": 8284110.253910969}, {\"timestamp\": \"2019-01-01T00:00:00\", \"cum\": 8284213.269555059}, {\"timestamp\": \"2019-02-01T00:00:00\", \"cum\": 8433826.6966556}, {\"timestamp\": \"2019-03-01T00:00:00\", \"cum\": 8387894.920806679}, {\"timestamp\": \"2019-04-01T00:00:00\", \"cum\": 8375701.164670349}, {\"timestamp\": \"2019-05-01T00:00:00\", \"cum\": 8385198.435285019}, {\"timestamp\": \"2019-06-01T00:00:00\", \"cum\": 8372861.203296179}, {\"timestamp\": \"2019-07-01T00:00:00\", \"cum\": 8397283.04350414}, {\"timestamp\": \"2019-08-01T00:00:00\", \"cum\": 8783469.54270266}, {\"timestamp\": \"2019-09-01T00:00:00\", \"cum\": 8996088.44434121}, {\"timestamp\": \"2019-10-01T00:00:00\", \"cum\": 9155924.849628761}, {\"timestamp\": \"2019-11-01T00:00:00\", \"cum\": 9281386.896721471}, {\"timestamp\": \"2019-12-01T00:00:00\", \"cum\": 9347154.3346922}, {\"timestamp\": \"2020-01-01T00:00:00\", \"cum\": 9389052.014847571}, {\"timestamp\": \"2020-02-01T00:00:00\", \"cum\": 9589171.094286472}, {\"timestamp\": \"2020-03-01T00:00:00\", \"cum\": 9857135.06791016}, {\"timestamp\": \"2020-04-01T00:00:00\", \"cum\": 11243663.51501635}, {\"timestamp\": \"2020-05-01T00:00:00\", \"cum\": 12003651.243252391}, {\"timestamp\": \"2020-06-01T00:00:00\", \"cum\": 12719923.415959502}, {\"timestamp\": \"2020-07-01T00:00:00\", \"cum\": 12826338.148847042}, {\"timestamp\": \"2020-08-01T00:00:00\", \"cum\": 13015089.746262481}, {\"timestamp\": \"2020-09-01T00:00:00\", \"cum\": 13212368.402765721}, {\"timestamp\": \"2020-10-01T00:00:00\", \"cum\": 13290984.148447411}, {\"timestamp\": \"2020-11-01T00:00:00\", \"cum\": 13542234.33814064}, {\"timestamp\": \"2020-12-01T00:00:00\", \"cum\": 13826297.90465879}, {\"timestamp\": \"2021-01-01T00:00:00\", \"cum\": 13837842.33919477}, {\"timestamp\": \"2021-02-01T00:00:00\", \"cum\": 13948048.007152552}, {\"timestamp\": \"2021-03-01T00:00:00\", \"cum\": 14174267.268534342}, {\"timestamp\": \"2021-04-01T00:00:00\", \"cum\": 14239788.696636891}, {\"timestamp\": \"2021-05-01T00:00:00\", \"cum\": 14209609.59837114}, {\"timestamp\": \"2021-06-01T00:00:00\", \"cum\": 14521025.21234731}, {\"timestamp\": \"2021-07-01T00:00:00\", \"cum\": 14480745.97652866}, {\"timestamp\": \"2021-08-01T00:00:00\", \"cum\": 14450371.05646701}, {\"timestamp\": \"2021-09-01T00:00:00\", \"cum\": 14480316.18924944}, {\"timestamp\": \"2021-10-01T00:00:00\", \"cum\": 14836918.42132536}, {\"timestamp\": \"2021-11-01T00:00:00\", \"cum\": 14844430.299009819}, {\"timestamp\": \"2021-12-01T00:00:00\", \"cum\": 15342769.239274748}, {\"timestamp\": \"2022-01-01T00:00:00\", \"cum\": 15683752.434570568}, {\"timestamp\": \"2022-02-01T00:00:00\", \"cum\": 15970392.653924648}, {\"timestamp\": \"2022-03-01T00:00:00\", \"cum\": 16070045.041309917}, {\"timestamp\": \"2022-04-01T00:00:00\", \"cum\": 16029390.528113157}, {\"timestamp\": \"2022-05-01T00:00:00\", \"cum\": 16079570.047825137}, {\"timestamp\": \"2022-06-01T00:00:00\", \"cum\": 16082833.055899087}, {\"timestamp\": \"2022-07-01T00:00:00\", \"cum\": 16119539.843604978}, {\"timestamp\": \"2022-08-01T00:00:00\", \"cum\": 16427820.979487779}, {\"timestamp\": \"2022-09-01T00:00:00\", \"cum\": 16450131.443925928}, {\"timestamp\": \"2022-10-01T00:00:00\", \"cum\": 16493375.114795309}, {\"timestamp\": \"2022-11-01T00:00:00\", \"cum\": 16688371.07408074}, {\"timestamp\": \"2022-12-01T00:00:00\", \"cum\": 16652186.047642589}, {\"timestamp\": \"2023-01-01T00:00:00\", \"cum\": 16719395.43153889}, {\"timestamp\": \"2023-02-01T00:00:00\", \"cum\": 16740781.223555109}, {\"timestamp\": \"2023-03-01T00:00:00\", \"cum\": 16821812.482345637}, {\"timestamp\": \"2023-04-01T00:00:00\", \"cum\": 16734025.720807897}, {\"timestamp\": \"2023-05-01T00:00:00\", \"cum\": 16753110.352419507}, {\"timestamp\": \"2023-06-01T00:00:00\", \"cum\": 17576434.888629977}, {\"timestamp\": \"2023-07-01T00:00:00\", \"cum\": 17820597.693667777}, {\"timestamp\": \"2023-08-01T00:00:00\", \"cum\": 18148868.804110795}, {\"timestamp\": \"2023-09-01T00:00:00\", \"cum\": 18432800.764819615}, {\"timestamp\": \"2023-10-01T00:00:00\", \"cum\": 18658847.860029295}, {\"timestamp\": \"2023-11-01T00:00:00\", \"cum\": 18919908.486102894}, {\"timestamp\": \"2023-12-01T00:00:00\", \"cum\": 19020186.194438595}, {\"timestamp\": \"2024-01-01T00:00:00\", \"cum\": 19157867.158597264}, {\"timestamp\": \"2024-02-01T00:00:00\", \"cum\": 19460233.115295656}, {\"timestamp\": \"2024-03-01T00:00:00\", \"cum\": 19595035.831906177}, {\"timestamp\": \"2024-04-01T00:00:00\", \"cum\": 19561024.971605297}, {\"timestamp\": \"2024-05-01T00:00:00\", \"cum\": 19683121.687732287}, {\"timestamp\": \"2024-06-01T00:00:00\", \"cum\": 19693231.732460838}, {\"timestamp\": \"2024-07-01T00:00:00\", \"cum\": 20012595.238391828}, {\"timestamp\": \"2024-08-01T00:00:00\", \"cum\": 20248902.434071656}, {\"timestamp\": \"2024-09-01T00:00:00\", \"cum\": 20392610.216147736}, {\"timestamp\": \"2024-10-01T00:00:00\", \"cum\": 20654781.434414648}, {\"timestamp\": \"2024-11-01T00:00:00\", \"cum\": 20876076.062223356}, {\"timestamp\": \"2024-12-01T00:00:00\", \"cum\": 20924346.870188426}, {\"timestamp\": \"2025-01-01T00:00:00\", \"cum\": 20994798.286465097}, {\"timestamp\": \"2025-02-01T00:00:00\", \"cum\": 20997383.937160816}]}}, {\"mode\": \"vega-lite\"});\n",
       "</script>"
      ],
      "text/plain": [
       "alt.Chart(...)"
      ]
     },
     "execution_count": 19,
     "metadata": {},
     "output_type": "execute_result"
    }
   ],
   "source": [
    "src = pd.DataFrame()\n",
    "src['cum'] = treasfinancing.cumsum()\n",
    "\n",
    "base = alt.Chart(src.reset_index(), width=600, height=200).encode(x='timestamp:T')\n",
    "line1 = base.mark_line(stroke='blue').encode(alt.Y('cum'))\n",
    "line1"
   ]
  },
  {
   "cell_type": "code",
   "execution_count": null,
   "metadata": {},
   "outputs": [],
   "source": []
  }
 ],
 "metadata": {
  "kernelspec": {
   "display_name": "API-macroecon-wrappy-Ov67JMZg",
   "language": "python",
   "name": "python3"
  },
  "language_info": {
   "codemirror_mode": {
    "name": "ipython",
    "version": 3
   },
   "file_extension": ".py",
   "mimetype": "text/x-python",
   "name": "python",
   "nbconvert_exporter": "python",
   "pygments_lexer": "ipython3",
   "version": "3.12.8"
  }
 },
 "nbformat": 4,
 "nbformat_minor": 2
}
