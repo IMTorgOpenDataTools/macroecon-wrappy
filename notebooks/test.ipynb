{
 "cells": [
  {
   "cell_type": "code",
   "execution_count": 1,
   "metadata": {},
   "outputs": [],
   "source": [
    "%load_ext autoreload\n",
    "%autoreload 2"
   ]
  },
  {
   "cell_type": "code",
   "execution_count": 2,
   "metadata": {},
   "outputs": [],
   "source": [
    "#project\n",
    "from macroecon_wrappy import (\n",
    "    Auth,\n",
    "    Metric,\n",
    "    Measure\n",
    ")\n",
    "from macroecon_wrappy.adapters import (\n",
    "    FredApi\n",
    ")\n",
    "\n",
    "#external\n",
    "from fredapi import Fred\n",
    "\n",
    "#system\n",
    "from pathlib import Path"
   ]
  },
  {
   "cell_type": "code",
   "execution_count": 3,
   "metadata": {},
   "outputs": [],
   "source": [
    "filepath = Path('/workspaces/API-macroecon-wrappy/SECRETS.yaml')\n",
    "auth = Auth(filepath)\n",
    "auth.load()\n",
    "fred = Fred(api_key=auth.data['API_KEY_FED'])\n",
    "FredApi.set_wrapper(fred)"
   ]
  },
  {
   "cell_type": "code",
   "execution_count": 4,
   "metadata": {},
   "outputs": [],
   "source": [
    "gdp = FredApi.get_data('GDP')\n",
    "assert gdp.shape[0] == 313\n",
    "#assert isinstance(gdp, Metric)\n",
    "\n",
    "#should be faster as metadata is cached\n",
    "gdi = FredApi.get_data('GDI')\n",
    "\n",
    "output = Measure([gdp, gdi])"
   ]
  },
  {
   "cell_type": "code",
   "execution_count": 8,
   "metadata": {},
   "outputs": [
    {
     "data": {
      "text/plain": [
       "{'id': 'GDI',\n",
       " 'realtime_start': Timestamp('2024-07-06 00:00:00'),\n",
       " 'realtime_end': Timestamp('2024-07-06 00:00:00'),\n",
       " 'title': 'Gross Domestic Income',\n",
       " 'observation_start': Timestamp('1947-01-01 00:00:00'),\n",
       " 'observation_end': Timestamp('2024-01-01 00:00:00'),\n",
       " 'frequency': 'Quarterly',\n",
       " 'frequency_short': 'Q',\n",
       " 'units': 'Billions of Dollars',\n",
       " 'units_short': 'Bil. of $',\n",
       " 'seasonal_adjustment': 'Seasonally Adjusted Annual Rate',\n",
       " 'seasonal_adjustment_short': 'SAAR',\n",
       " 'last_updated': datetime.datetime(2024, 6, 27, 7, 57, 6, tzinfo=datetime.timezone(datetime.timedelta(days=-1, seconds=68400))),\n",
       " 'popularity': '67',\n",
       " 'notes': 'BEA Account Code: A261RC Gross domestic income  is an alternative way of measuring the nation\\'s economy, by counting the incomes earned and costs incurred in production. In theory, GDI should equal gross domestic product, but the different source data yield different results. The difference between the two measures is known as the \"statistical discrepancy.\" BEA considers GDP more reliable because it\\'s based on timelier, more expansive data.'}"
      ]
     },
     "execution_count": 8,
     "metadata": {},
     "output_type": "execute_result"
    }
   ],
   "source": [
    "gdi._metadata"
   ]
  },
  {
   "cell_type": "code",
   "execution_count": null,
   "metadata": {},
   "outputs": [],
   "source": []
  },
  {
   "cell_type": "code",
   "execution_count": null,
   "metadata": {},
   "outputs": [],
   "source": []
  },
  {
   "cell_type": "code",
   "execution_count": 11,
   "metadata": {},
   "outputs": [
    {
     "data": {
      "text/plain": [
       "Series([], dtype: object)"
      ]
     },
     "execution_count": 11,
     "metadata": {},
     "output_type": "execute_result"
    }
   ],
   "source": [
    "import yfinance as yf\n",
    "\n",
    "msft = yf.Ticker(\"MSFT\")\n",
    "\n",
    "# get all stock info\n",
    "msft.info\n",
    "\n",
    "# get historical market data\n",
    "hist = msft.history(period=\"1mo\")\n",
    "#hist = msft.get_shares_full(start=start_date, end=end_date)\n",
    "\n",
    "# show meta information about the history (requires history() to be called first)\n",
    "msft.history_metadata\n",
    "\n",
    "# show share count\n",
    "msft.get_shares_full(start=\"2000-01-01\", end=None)\n",
    "\n",
    "# show actions (dividends, splits, capital gains)\n",
    "msft.actions\n",
    "msft.dividends\n",
    "msft.splits\n",
    "msft.capital_gains  # only for mutual funds & etfs\n",
    "\n"
   ]
  },
  {
   "cell_type": "code",
   "execution_count": null,
   "metadata": {},
   "outputs": [],
   "source": []
  }
 ],
 "metadata": {
  "kernelspec": {
   "display_name": "API-macroecon-wrappy-Ov67JMZg",
   "language": "python",
   "name": "python3"
  },
  "language_info": {
   "codemirror_mode": {
    "name": "ipython",
    "version": 3
   },
   "file_extension": ".py",
   "mimetype": "text/x-python",
   "name": "python",
   "nbconvert_exporter": "python",
   "pygments_lexer": "ipython3",
   "version": "3.12.0"
  }
 },
 "nbformat": 4,
 "nbformat_minor": 2
}
